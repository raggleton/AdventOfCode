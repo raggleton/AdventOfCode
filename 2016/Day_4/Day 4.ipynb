{
 "cells": [
  {
   "cell_type": "markdown",
   "metadata": {},
   "source": [
    "# Day 4\n",
    "Finally, you come across an information kiosk with a list of rooms. Of course, the list is encrypted and full of decoy data, but the instructions to decode the list are barely hidden nearby. Better remove the decoy data first.\n",
    "\n",
    "Each room consists of an encrypted name (lowercase letters separated by dashes) followed by a dash, a sector ID, and a checksum in square brackets.\n",
    "\n",
    "A room is real (not a decoy) if the checksum is the five most common letters in the encrypted name, in order, with ties broken by alphabetization. For example:\n",
    "\n",
    "- `aaaaa-bbb-z-y-x-123[abxyz]` is a real room because the most common letters are a (5), b (3), and then a tie between x, y, and z, which are listed alphabetically.\n",
    "- `a-b-c-d-e-f-g-h-987[abcde]` is a real room because although the letters are all tied (1 of each), the first five are listed alphabetically.\n",
    "- `not-a-real-room-404[oarel]` is a real room.\n",
    "- `totally-real-room-200[decoy]` is not.\n",
    "\n",
    "Of the real rooms from the list above, the sum of their sector IDs is 1514.\n",
    "\n",
    "What is the sum of the sector IDs of the real rooms?"
   ]
  },
  {
   "cell_type": "code",
   "execution_count": 17,
   "metadata": {
    "collapsed": true
   },
   "outputs": [],
   "source": [
    "from collections import Counter, namedtuple, OrderedDict"
   ]
  },
  {
   "cell_type": "code",
   "execution_count": 3,
   "metadata": {
    "collapsed": true
   },
   "outputs": [],
   "source": [
    "Room = namedtuple(\"Room\", \"name sectorID checksum\")"
   ]
  },
  {
   "cell_type": "code",
   "execution_count": 150,
   "metadata": {
    "collapsed": true
   },
   "outputs": [],
   "source": [
    "# test inputs\n",
    "inputs = [\n",
    "    'aaaaa-bbb-z-y-x-123[abxyz]',\n",
    "    'a-b-c-d-e-f-g-h-987[abcde]',\n",
    "    'not-a-real-room-404[oarel]',\n",
    "    'totally-real-room-200[decoy]'\n",
    "]"
   ]
  },
  {
   "cell_type": "code",
   "execution_count": 166,
   "metadata": {
    "collapsed": true
   },
   "outputs": [],
   "source": [
    "# real inputs\n",
    "with open(\"Day_4_input.txt\") as f:\n",
    "    inputs = f.readlines()"
   ]
  },
  {
   "cell_type": "code",
   "execution_count": 167,
   "metadata": {
    "collapsed": false
   },
   "outputs": [],
   "source": [
    "rooms = []\n",
    "for i in inputs:\n",
    "    i = i.strip()\n",
    "    parts = i.split('[')\n",
    "    chksum = parts[1].strip(']')\n",
    "    bits = parts[0].split('-')\n",
    "    sectorID = int(bits[-1])\n",
    "    name = '-'.join(bits[:-1])\n",
    "    r = Room(name=name, sectorID=sectorID, checksum=chksum)\n",
    "#     print(r)\n",
    "    rooms.append(r)"
   ]
  },
  {
   "cell_type": "code",
   "execution_count": 168,
   "metadata": {
    "collapsed": true
   },
   "outputs": [],
   "source": [
    "def generate_checksum(name):\n",
    "#     print(name)\n",
    "    c = Counter(name.replace(\"-\", \"\"))\n",
    "    d2 = OrderedDict(sorted(c.items(), key=lambda t: t[0]))  # sort by alphabetical\n",
    "    d3 = OrderedDict(sorted(d2.items(), key=lambda t: t[1], reverse=True))  # sort by frequency, which also retians alphabetical ordering\n",
    "#     print(d2)\n",
    "#     print(d3)\n",
    "    return ''.join(d3.keys())[:5]"
   ]
  },
  {
   "cell_type": "code",
   "execution_count": 169,
   "metadata": {
    "collapsed": false
   },
   "outputs": [
    {
     "data": {
      "text/plain": [
       "'mvbgi'"
      ]
     },
     "execution_count": 169,
     "metadata": {},
     "output_type": "execute_result"
    }
   ],
   "source": [
    "generate_checksum(rooms[1].name)"
   ]
  },
  {
   "cell_type": "code",
   "execution_count": 170,
   "metadata": {
    "collapsed": false,
    "scrolled": false
   },
   "outputs": [
    {
     "name": "stdout",
     "output_type": "stream",
     "text": [
      "wjvzd\n",
      "lfdhq\n",
      "zmnji\n",
      "mvbgi\n",
      "syiua\n",
      "pcdfk\n",
      "nzbdj\n",
      "nzbdj\n",
      "ztsqu\n",
      "jfhtw\n"
     ]
    }
   ],
   "source": [
    "for r in rooms[:5]:\n",
    "    print(r.checksum)\n",
    "    print(generate_checksum(r.name))"
   ]
  },
  {
   "cell_type": "code",
   "execution_count": 171,
   "metadata": {
    "collapsed": false
   },
   "outputs": [
    {
     "name": "stdout",
     "output_type": "stream",
     "text": [
      "173787\n"
     ]
    }
   ],
   "source": [
    "total = sum((r.sectorID for r in rooms if r.checksum == generate_checksum(r.name)))\n",
    "print(total)"
   ]
  },
  {
   "cell_type": "markdown",
   "metadata": {},
   "source": [
    "## Part 2"
   ]
  },
  {
   "cell_type": "markdown",
   "metadata": {},
   "source": [
    "With all the decoy data out of the way, it's time to decrypt this list and get moving.\n",
    "\n",
    "The room names are encrypted by a state-of-the-art shift cipher, which is nearly unbreakable without the right software. However, the information kiosk designers at Easter Bunny HQ were not expecting to deal with a master cryptographer like yourself.\n",
    "\n",
    "To decrypt a room name, rotate each letter forward through the alphabet a number of times equal to the room's sector ID. A becomes B, B becomes C, Z becomes A, and so on. Dashes become spaces.\n",
    "\n",
    "For example, the real name for `qzmt-zixmtkozy-ivhz-343` is `very encrypted name`.\n",
    "\n",
    "What is the sector ID of the room where North Pole objects are stored?"
   ]
  },
  {
   "cell_type": "code",
   "execution_count": 172,
   "metadata": {
    "collapsed": true
   },
   "outputs": [],
   "source": [
    "from string import ascii_lowercase"
   ]
  },
  {
   "cell_type": "code",
   "execution_count": 174,
   "metadata": {
    "collapsed": true
   },
   "outputs": [],
   "source": [
    "def translate_name(name, rotation=0):\n",
    "    translation_dict = {'-': ' '}\n",
    "    for i, l in enumerate(ascii_lowercase):\n",
    "        translation_dict[l] = ascii_lowercase[(i+rotation) % 26]\n",
    "    return ''.join([translation_dict[x] for x in name])"
   ]
  },
  {
   "cell_type": "code",
   "execution_count": 187,
   "metadata": {
    "collapsed": false
   },
   "outputs": [
    {
     "data": {
      "text/plain": [
       "'very encrypted name'"
      ]
     },
     "execution_count": 187,
     "metadata": {},
     "output_type": "execute_result"
    }
   ],
   "source": [
    "# test translation\n",
    "translate_name(\"qzmt-zixmtkozy-ivhz\", 343)"
   ]
  },
  {
   "cell_type": "code",
   "execution_count": 175,
   "metadata": {
    "collapsed": false
   },
   "outputs": [],
   "source": [
    "new_rooms = [Room(name=translate_name(r.name, r.sectorID), sectorID=r.sectorID, checksum=r.checksum) for r in rooms]"
   ]
  },
  {
   "cell_type": "code",
   "execution_count": 196,
   "metadata": {
    "collapsed": false,
    "scrolled": false
   },
   "outputs": [
    {
     "data": {
      "text/plain": [
       "[Room(name='colorful basket acquisition', sectorID=252, checksum='qwabc'),\n",
       " Room(name='colorful basket financing', sectorID=194, checksum='xpmrg'),\n",
       " Room(name='colorful basket operations', sectorID=483, checksum='aznms'),\n",
       " Room(name='colorful basket services', sectorID=596, checksum='nfath'),\n",
       " Room(name='colorful basket storage', sectorID=715, checksum='ahftx'),\n",
       " Room(name='colorful basket user testing', sectorID=424, checksum='euphz'),\n",
       " Room(name='colorful candy coating laboratory', sectorID=850, checksum='wiktz'),\n",
       " Room(name='colorful candy coating reacquisition', sectorID=351, checksum='bpvan'),\n",
       " Room(name='colorful candy coating shipping', sectorID=473, checksum='hgbua'),\n",
       " Room(name='colorful candy deployment', sectorID=440, checksum='mnlrz'),\n",
       " Room(name='colorful candy design', sectorID=726, checksum='oydrm'),\n",
       " Room(name='colorful candy engineering', sectorID=457, checksum='jzkil'),\n",
       " Room(name='colorful candy management', sectorID=348, checksum='dqbce'),\n",
       " Room(name='colorful candy marketing', sectorID=930, checksum='girtu'),\n",
       " Room(name='colorful candy storage', sectorID=579, checksum='hektv'),\n",
       " Room(name='colorful chocolate research', sectorID=923, checksum='bpery'),\n",
       " Room(name='colorful chocolate shipping', sectorID=820, checksum='aoxbt'),\n",
       " Room(name='colorful dye containment', sectorID=547, checksum='jcdas'),\n",
       " Room(name='colorful dye customer service', sectorID=436, checksum='wiqzo'),\n",
       " Room(name='colorful dye engineering', sectorID=604, checksum='hstyz'),\n",
       " Room(name='colorful dye financing', sectorID=174, checksum='qsnxm'),\n",
       " Room(name='colorful dye services', sectorID=693, checksum='nablu'),\n",
       " Room(name='colorful dye training', sectorID=895, checksum='acdgx'),\n",
       " Room(name='colorful dye user testing', sectorID=983, checksum='zvyre'),\n",
       " Room(name='colorful dye workshop', sectorID=376, checksum='kybix'),\n",
       " Room(name='colorful flower customer service', sectorID=757, checksum='bloiz'),\n",
       " Room(name='colorful flower laboratory', sectorID=238, checksum='hswtq'),\n",
       " Room(name='colorful flower management', sectorID=811, checksum='tjpax'),\n",
       " Room(name='colorful flower marketing', sectorID=964, checksum='ftznh'),\n",
       " Room(name='colorful flower reacquisition', sectorID=419, checksum='spmzt'),\n",
       " Room(name='colorful flower services', sectorID=715, checksum='slnmt'),\n",
       " Room(name='colorful plastic grass analysis', sectorID=141, checksum='qmfpg'),\n",
       " Room(name='colorful plastic grass research', sectorID=717, checksum='cdlnw'),\n",
       " Room(name='colorful plastic grass sales', sectorID=776, checksum='zglbt'),\n",
       " Room(name='colorful plastic grass shipping', sectorID=575, checksum='zwkxc'),\n",
       " Room(name='consumer grade basket containment', sectorID=320, checksum='fwlse'),\n",
       " Room(name='consumer grade basket receiving', sectorID=742, checksum='timug'),\n",
       " Room(name='consumer grade basket shipping', sectorID=992, checksum='utznj'),\n",
       " Room(name='consumer grade candy coating logistics', sectorID=756, checksum='uygno'),\n",
       " Room(name='consumer grade candy coating receiving', sectorID=730, checksum='mpskn'),\n",
       " Room(name='consumer grade candy coating training', sectorID=567, checksum='ivjzs'),\n",
       " Room(name='consumer grade candy customer service', sectorID=773, checksum='ljyzb'),\n",
       " Room(name='consumer grade candy logistics', sectorID=576, checksum='eqdiy'),\n",
       " Room(name='consumer grade candy reacquisition', sectorID=516, checksum='egimr'),\n",
       " Room(name='consumer grade candy shipping', sectorID=968, checksum='eufrc'),\n",
       " Room(name='consumer grade chocolate services', sectorID=751, checksum='osurb'),\n",
       " Room(name='consumer grade chocolate storage', sectorID=781, checksum='eiqgm'),\n",
       " Room(name='consumer grade dye deployment', sectorID=876, checksum='gcnyk'),\n",
       " Room(name='consumer grade dye engineering', sectorID=666, checksum='dracq'),\n",
       " Room(name='consumer grade dye logistics', sectorID=135, checksum='nzbdj'),\n",
       " Room(name='consumer grade dye research', sectorID=549, checksum='cobza'),\n",
       " Room(name='consumer grade flower laboratory', sectorID=145, checksum='tbvmx'),\n",
       " Room(name='consumer grade flower operations', sectorID=254, checksum='uvfmo'),\n",
       " Room(name='consumer grade flower sales', sectorID=414, checksum='gtucn'),\n",
       " Room(name='consumer grade flower user testing', sectorID=730, checksum='opija'),\n",
       " Room(name='consumer grade plastic grass analysis', sectorID=114, checksum='mhlay'),\n",
       " Room(name='consumer grade plastic grass department', sectorID=918, checksum='badep'),\n",
       " Room(name='consumer grade plastic grass development', sectorID=198, checksum='vqfcu'),\n",
       " Room(name='consumer grade plastic grass engineering', sectorID=377, checksum='fgreq'),\n",
       " Room(name='international basket customer service', sectorID=385, checksum='jyfns'),\n",
       " Room(name='international basket deployment', sectorID=195, checksum='szmkx'),\n",
       " Room(name='international basket reacquisition', sectorID=429, checksum='shgyt'),\n",
       " Room(name='international basket shipping', sectorID=550, checksum='hndsm'),\n",
       " Room(name='international candy coating containment', sectorID=938, checksum='abmon'),\n",
       " Room(name='international candy coating deployment', sectorID=971, checksum='ekwcg'),\n",
       " Room(name='international candy coating training', sectorID=457, checksum='zrxqh'),\n",
       " Room(name='international candy customer service', sectorID=277, checksum='nwacj'),\n",
       " Room(name='international candy purchasing', sectorID=276, checksum='jqrnw'),\n",
       " Room(name='international candy user testing', sectorID=789, checksum='ekrvz'),\n",
       " Room(name='international chocolate containment', sectorID=153, checksum='jnwkm'),\n",
       " Room(name='international chocolate customer service', sectorID=350, checksum='nzxwy'),\n",
       " Room(name='international chocolate financing', sectorID=821, checksum='shmzu'),\n",
       " Room(name='international chocolate user testing', sectorID=284, checksum='efhns'),\n",
       " Room(name='international dye customer service', sectorID=497, checksum='bfkoq'),\n",
       " Room(name='international dye department', sectorID=109, checksum='omrxn'),\n",
       " Room(name='international dye purchasing', sectorID=461, checksum='uhpal'),\n",
       " Room(name='international flower analysis', sectorID=862, checksum='jweha'),\n",
       " Room(name='international flower laboratory', sectorID=698, checksum='esvpr'),\n",
       " Room(name='international flower operations', sectorID=713, checksum='tuqak'),\n",
       " Room(name='international flower purchasing', sectorID=528, checksum='fajsd'),\n",
       " Room(name='international flower reacquisition', sectorID=150, checksum='mdfyq'),\n",
       " Room(name='international magnetic plastic grass department', sectorID=564, checksum='rotyq'),\n",
       " Room(name='international plastic grass containment', sectorID=787, checksum='gmtbl'),\n",
       " Room(name='international plastic grass customer service', sectorID=535, checksum='dcelp'),\n",
       " Room(name='international plastic grass deployment', sectorID=398, checksum='madni'),\n",
       " Room(name='international plastic grass management', sectorID=695, checksum='whgcf'),\n",
       " Room(name='international plastic grass receiving', sectorID=219, checksum='yxomp'),\n",
       " Room(name='international plastic grass shipping', sectorID=590, checksum='wbigl'),\n",
       " Room(name='magnetic basket receiving', sectorID=655, checksum='dzcnu'),\n",
       " Room(name='magnetic basket workshop', sectorID=690, checksum='unsbc'),\n",
       " Room(name='magnetic candy acquisition', sectorID=829, checksum='lbrgj'),\n",
       " Room(name='magnetic candy coating acquisition', sectorID=664, checksum='zvhru'),\n",
       " Room(name='magnetic candy coating analysis', sectorID=991, checksum='npdis'),\n",
       " Room(name='magnetic candy coating financing', sectorID=456, checksum='caspz'),\n",
       " Room(name='magnetic candy coating marketing', sectorID=489, checksum='ghblf'),\n",
       " Room(name='magnetic candy coating workshop', sectorID=348, checksum='rwone'),\n",
       " Room(name='magnetic candy technology', sectorID=204, checksum='dcozr'),\n",
       " Room(name='magnetic chocolate acquisition', sectorID=248, checksum='xgnem'),\n",
       " Room(name='magnetic chocolate analysis', sectorID=303, checksum='epojm'),\n",
       " Room(name='magnetic chocolate development', sectorID=794, checksum='kvfeg'),\n",
       " Room(name='magnetic chocolate laboratory', sectorID=756, checksum='myarc'),\n",
       " Room(name='magnetic dye deployment', sectorID=766, checksum='zqtpb'),\n",
       " Room(name='magnetic dye financing', sectorID=328, checksum='xskmo'),\n",
       " Room(name='magnetic dye laboratory', sectorID=788, checksum='xwpyu'),\n",
       " Room(name='magnetic dye operations', sectorID=714, checksum='atihz'),\n",
       " Room(name='magnetic dye receiving', sectorID=588, checksum='osmqx'),\n",
       " Room(name='magnetic dye sales', sectorID=366, checksum='mzens'),\n",
       " Room(name='magnetic plastic grass acquisition', sectorID=859, checksum='poznx'),\n",
       " Room(name='magnetic plastic grass department', sectorID=327, checksum='orxhy'),\n",
       " Room(name='magnetic plastic grass engineering', sectorID=972, checksum='hdvyx'),\n",
       " Room(name='magnetic plastic grass financing', sectorID=629, checksum='pabrd'),\n",
       " Room(name='magnetic plastic grass reacquisition', sectorID=995, checksum='pqmrn'),\n",
       " Room(name='magnetic plastic grass sales', sectorID=724, checksum='wegik'),\n",
       " Room(name='magnetic plastic grass user testing', sectorID=301, checksum='delpr'),\n",
       " Room(name='northpole object storage', sectorID=548, checksum='mcrpa')]"
      ]
     },
     "execution_count": 196,
     "metadata": {},
     "output_type": "execute_result"
    }
   ],
   "source": [
    "# try and filter all the crap names, but difficult...\n",
    "dodgy_words = ['egg', 'bunny', 'rabbit', 'fuzzy', 'military', \n",
    "               'classified', 'biohazard', 'weapon', 'radioactive', \n",
    "               'projectile', 'cryogenic', 'corrosive', 'unstable',\n",
    "               'rampaging', 'scavenger', 'top', 'secret', 'jelly']\n",
    "sorted([r for r in new_rooms if not any(x in r.name for x in dodgy_words)], key=lambda t: t.name)"
   ]
  },
  {
   "cell_type": "code",
   "execution_count": 186,
   "metadata": {
    "collapsed": false,
    "scrolled": false
   },
   "outputs": [
    {
     "data": {
      "text/plain": [
       "[Room(name='northpole object storage', sectorID=548, checksum='mcrpa')]"
      ]
     },
     "execution_count": 186,
     "metadata": {},
     "output_type": "execute_result"
    }
   ],
   "source": [
    "[r for r in new_rooms if \"pole\" in r.name]"
   ]
  },
  {
   "cell_type": "code",
   "execution_count": null,
   "metadata": {
    "collapsed": true
   },
   "outputs": [],
   "source": []
  }
 ],
 "metadata": {
  "kernelspec": {
   "display_name": "Python 3",
   "language": "python",
   "name": "python3"
  },
  "language_info": {
   "codemirror_mode": {
    "name": "ipython",
    "version": 3
   },
   "file_extension": ".py",
   "mimetype": "text/x-python",
   "name": "python",
   "nbconvert_exporter": "python",
   "pygments_lexer": "ipython3",
   "version": "3.5.1"
  }
 },
 "nbformat": 4,
 "nbformat_minor": 2
}
