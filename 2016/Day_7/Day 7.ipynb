{
 "cells": [
  {
   "cell_type": "markdown",
   "metadata": {},
   "source": [
    "# Day 7\n",
    "\n",
    "While snooping around the local network of EBHQ, you compile a list of IP addresses (they're IPv7, of course; IPv6 is much too limited). You'd like to figure out which IPs support TLS (transport-layer snooping).\n",
    "\n",
    "An IP supports TLS if it has an Autonomous Bridge Bypass Annotation, or ABBA. An ABBA is any four-character sequence which consists of a pair of two different characters followed by the reverse of that pair, such as xyyx or abba. However, the IP also must not have an ABBA within any hypernet sequences, which are contained by square brackets.\n",
    "\n",
    "For example:\n",
    "\n",
    "- `abba[mnop]qrst` supports TLS (abba outside square brackets).\n",
    "- `abcd[bddb]xyyx` does not support TLS (bddb is within square brackets, even though xyyx is outside square brackets).\n",
    "- `aaaa[qwer]tyui` does not support TLS (aaaa is invalid; the interior characters must be different).\n",
    "- `ioxxoj[asdfgh]zxcvbn` supports TLS (oxxo is outside square brackets, even though it's within a larger string).\n",
    "\n",
    "How many IPs in your puzzle input support TLS?\n",
    "\n"
   ]
  },
  {
   "cell_type": "code",
   "execution_count": 170,
   "metadata": {
    "collapsed": true
   },
   "outputs": [],
   "source": [
    "import re\n",
    "from pprint import pprint"
   ]
  },
  {
   "cell_type": "code",
   "execution_count": 94,
   "metadata": {
    "collapsed": false
   },
   "outputs": [],
   "source": [
    "hypernet_pattern = re.compile(r'\\[(\\w+)\\]')"
   ]
  },
  {
   "cell_type": "code",
   "execution_count": 101,
   "metadata": {
    "collapsed": false
   },
   "outputs": [
    {
     "data": {
      "text/plain": [
       "['mnop']"
      ]
     },
     "execution_count": 101,
     "metadata": {},
     "output_type": "execute_result"
    }
   ],
   "source": [
    "hypernet_pattern.findall(\"abba[mnop]qrst\")"
   ]
  },
  {
   "cell_type": "code",
   "execution_count": 102,
   "metadata": {
    "collapsed": false
   },
   "outputs": [
    {
     "data": {
      "text/plain": [
       "['crqappbbcaplkkzb', 'nbvypeadikilcwg', 'dgoanojvdvwfabtt']"
      ]
     },
     "execution_count": 102,
     "metadata": {},
     "output_type": "execute_result"
    }
   ],
   "source": [
    "hypernet_pattern.findall(\"gdlrknrmexvaypu[crqappbbcaplkkzb]vhvkjyadjsryysvj[nbvypeadikilcwg]jwxlimrgakadpxu[dgoanojvdvwfabtt]yqsalmulblolkgsheo\")"
   ]
  },
  {
   "cell_type": "code",
   "execution_count": 103,
   "metadata": {
    "collapsed": true
   },
   "outputs": [],
   "source": [
    "abba_pattern = re.compile(r'(\\w)(?!\\1)(\\w)\\2\\1')"
   ]
  },
  {
   "cell_type": "code",
   "execution_count": 104,
   "metadata": {
    "collapsed": false
   },
   "outputs": [
    {
     "data": {
      "text/plain": [
       "'abba'"
      ]
     },
     "execution_count": 104,
     "metadata": {},
     "output_type": "execute_result"
    }
   ],
   "source": [
    "# this should work\n",
    "abba_pattern.search('cabba').group()"
   ]
  },
  {
   "cell_type": "code",
   "execution_count": 105,
   "metadata": {
    "collapsed": false
   },
   "outputs": [
    {
     "ename": "AttributeError",
     "evalue": "'NoneType' object has no attribute 'group'",
     "output_type": "error",
     "traceback": [
      "\u001b[0;31m---------------------------------------------------------------------------\u001b[0m",
      "\u001b[0;31mAttributeError\u001b[0m                            Traceback (most recent call last)",
      "\u001b[0;32m<ipython-input-105-bfdf318cab6a>\u001b[0m in \u001b[0;36m<module>\u001b[0;34m()\u001b[0m\n\u001b[1;32m      1\u001b[0m \u001b[0;31m# this should fail\u001b[0m\u001b[0;34m\u001b[0m\u001b[0;34m\u001b[0m\u001b[0m\n\u001b[0;32m----> 2\u001b[0;31m \u001b[0mabba_pattern\u001b[0m\u001b[0;34m.\u001b[0m\u001b[0msearch\u001b[0m\u001b[0;34m(\u001b[0m\u001b[0;34m'caaaa'\u001b[0m\u001b[0;34m)\u001b[0m\u001b[0;34m.\u001b[0m\u001b[0mgroup\u001b[0m\u001b[0;34m(\u001b[0m\u001b[0;34m)\u001b[0m\u001b[0;34m\u001b[0m\u001b[0m\n\u001b[0m",
      "\u001b[0;31mAttributeError\u001b[0m: 'NoneType' object has no attribute 'group'"
     ]
    }
   ],
   "source": [
    "# this should fail\n",
    "abba_pattern.search('caaaa').group()"
   ]
  },
  {
   "cell_type": "code",
   "execution_count": 140,
   "metadata": {
    "collapsed": false
   },
   "outputs": [],
   "source": [
    "def supports_tls(ip):\n",
    "    # First find hypernet bits, check they aren't ABBA\n",
    "    hypernets = hypernet_pattern.findall(ip)\n",
    "    for h in hypernets:\n",
    "        if abba_pattern.search(h) is not None:\n",
    "            return False\n",
    "\n",
    "    # Now go through everything else to find an ABBA\n",
    "    # Make a custom regex for this particular IP\n",
    "    other_parts_str = r'(\\w+)'\n",
    "    other_parts_str += r'(\\w+)'.join([r'\\['+h+r'\\]' for h in hypernets])\n",
    "    other_parts_str += r'(\\w+)'\n",
    "    other_pattern = re.compile(other_parts_str)\n",
    "    m = other_pattern.match(ip)\n",
    "    for a in m.groups():\n",
    "        if abba_pattern.search(a):\n",
    "            return True\n",
    "    return False"
   ]
  },
  {
   "cell_type": "code",
   "execution_count": 128,
   "metadata": {
    "collapsed": false
   },
   "outputs": [
    {
     "data": {
      "text/plain": [
       "True"
      ]
     },
     "execution_count": 128,
     "metadata": {},
     "output_type": "execute_result"
    }
   ],
   "source": [
    "supports_tls(\"abba[mnop]qrst\")"
   ]
  },
  {
   "cell_type": "code",
   "execution_count": 129,
   "metadata": {
    "collapsed": false
   },
   "outputs": [
    {
     "data": {
      "text/plain": [
       "False"
      ]
     },
     "execution_count": 129,
     "metadata": {},
     "output_type": "execute_result"
    }
   ],
   "source": [
    "supports_tls(\"abcd[bddb]xyyx\")"
   ]
  },
  {
   "cell_type": "code",
   "execution_count": 130,
   "metadata": {
    "collapsed": false
   },
   "outputs": [
    {
     "data": {
      "text/plain": [
       "False"
      ]
     },
     "execution_count": 130,
     "metadata": {},
     "output_type": "execute_result"
    }
   ],
   "source": [
    "supports_tls(\"aaaa[qwer]tyui\")"
   ]
  },
  {
   "cell_type": "code",
   "execution_count": 131,
   "metadata": {
    "collapsed": false
   },
   "outputs": [
    {
     "data": {
      "text/plain": [
       "True"
      ]
     },
     "execution_count": 131,
     "metadata": {},
     "output_type": "execute_result"
    }
   ],
   "source": [
    "supports_tls(\"ioxxoj[asdfgh]zxcvbn\")"
   ]
  },
  {
   "cell_type": "code",
   "execution_count": 132,
   "metadata": {
    "collapsed": false
   },
   "outputs": [
    {
     "data": {
      "text/plain": [
       "False"
      ]
     },
     "execution_count": 132,
     "metadata": {},
     "output_type": "execute_result"
    }
   ],
   "source": [
    "supports_tls(\"gdlrknrmexvaypu[crqappbbcaplkkzb]vhvkjyadjsryysvj[nbvypeadikilcwg]jwxlimrgakadpxu[dgoanojvdvwfabtt]yqsalmulblolkgsheo\")"
   ]
  },
  {
   "cell_type": "code",
   "execution_count": 133,
   "metadata": {
    "collapsed": false
   },
   "outputs": [
    {
     "name": "stdout",
     "output_type": "stream",
     "text": [
      "110 matches\n"
     ]
    }
   ],
   "source": [
    "with open(\"Day_7_input.txt\") as f:\n",
    "    answer = len([x for x in f.readlines() if supports_tls(x.strip())])\n",
    "    print(answer, \"matches\")\n"
   ]
  },
  {
   "cell_type": "markdown",
   "metadata": {},
   "source": [
    "## Part 2\n",
    "\n",
    "You would also like to know which IPs support SSL (super-secret listening).\n",
    "\n",
    "An IP supports SSL if it has an Area-Broadcast Accessor, or ABA, anywhere in the supernet sequences (outside any square bracketed sections), and a corresponding Byte Allocation Block, or BAB, anywhere in the hypernet sequences. An ABA is any three-character sequence which consists of the same character twice with a different character between them, such as xyx or aba. A corresponding BAB is the same characters but in reversed positions: yxy and bab, respectively.\n",
    "\n",
    "For example:\n",
    "\n",
    "- `aba[bab]xyz` supports SSL (aba outside square brackets with corresponding bab within square brackets).\n",
    "- `xyx[xyx]xyx` does not support SSL (xyx, but no corresponding yxy).\n",
    "- `aaa[kek]eke` supports SSL (eke in supernet with corresponding kek in hypernet; the aaa sequence is not related, because the interior character must be different).\n",
    "- `zazbz[bzb]cdb` supports SSL (zaz has no corresponding aza, but zbz has a corresponding bzb, even though zaz and zbz overlap).\n",
    "\n",
    "How many IPs in your puzzle input support SSL?\n",
    "\n"
   ]
  },
  {
   "cell_type": "code",
   "execution_count": 264,
   "metadata": {
    "collapsed": false
   },
   "outputs": [],
   "source": [
    "# need the ?= to lookahaead to catch overlappign patterns, eg srsr\n",
    "aba_pattern = re.compile(r'(?=(\\w)(?!\\1)(\\w)\\1)') "
   ]
  },
  {
   "cell_type": "code",
   "execution_count": 265,
   "metadata": {
    "collapsed": false
   },
   "outputs": [
    {
     "data": {
      "text/plain": [
       "''"
      ]
     },
     "execution_count": 265,
     "metadata": {},
     "output_type": "execute_result"
    }
   ],
   "source": [
    "aba_pattern.search(\"cdcdc\").group()"
   ]
  },
  {
   "cell_type": "code",
   "execution_count": 266,
   "metadata": {
    "collapsed": false
   },
   "outputs": [
    {
     "data": {
      "text/plain": [
       "[('c', 'd'), ('d', 'c'), ('c', 'd')]"
      ]
     },
     "execution_count": 266,
     "metadata": {},
     "output_type": "execute_result"
    }
   ],
   "source": [
    "# returns groups, so (\\1, \\2)\n",
    "aba_pattern.findall(\"cdcdc\")"
   ]
  },
  {
   "cell_type": "code",
   "execution_count": 255,
   "metadata": {
    "collapsed": false
   },
   "outputs": [],
   "source": [
    "def supports_ssl(ip):\n",
    "    # First find hypernet bits, create corresponding anti patterns\n",
    "    hypernets = hypernet_pattern.findall(ip)\n",
    "    hypernets_babs = []\n",
    "    for h in hypernets:\n",
    "        for m in aba_pattern.finditer(h):\n",
    "            if m:\n",
    "                hypernets_babs.append(m.expand(r'\\1\\2\\1'))\n",
    "           \n",
    "    aba_patterns = [re.compile('{0}{1}{0}'.format(x[1], x[0])) for x in hypernets_babs]\n",
    "    \n",
    "    # Now go through everything else to find an ABA\n",
    "    # Make a custom regex for this particular IP\n",
    "    other_parts_str = r'(\\w+)'\n",
    "    other_parts_str += r'(\\w+)'.join([r'\\['+h+r'\\]' for h in hypernets])\n",
    "    other_parts_str += r'(\\w+)'\n",
    "    other_pattern = re.compile(other_parts_str)\n",
    "    m = other_pattern.match(ip)\n",
    "    for a in m.groups():    \n",
    "        if any(pattern.search(a) for pattern in aba_patterns):\n",
    "            return True\n",
    "    return False"
   ]
  },
  {
   "cell_type": "code",
   "execution_count": 256,
   "metadata": {
    "collapsed": false
   },
   "outputs": [
    {
     "data": {
      "text/plain": [
       "True"
      ]
     },
     "execution_count": 256,
     "metadata": {},
     "output_type": "execute_result"
    }
   ],
   "source": [
    "supports_ssl(\"aba[bab]xyz\")"
   ]
  },
  {
   "cell_type": "code",
   "execution_count": 257,
   "metadata": {
    "collapsed": false
   },
   "outputs": [
    {
     "data": {
      "text/plain": [
       "False"
      ]
     },
     "execution_count": 257,
     "metadata": {},
     "output_type": "execute_result"
    }
   ],
   "source": [
    "supports_ssl(\"xyx[xyx]xyx\")"
   ]
  },
  {
   "cell_type": "code",
   "execution_count": 258,
   "metadata": {
    "collapsed": false,
    "scrolled": true
   },
   "outputs": [
    {
     "data": {
      "text/plain": [
       "True"
      ]
     },
     "execution_count": 258,
     "metadata": {},
     "output_type": "execute_result"
    }
   ],
   "source": [
    "supports_ssl(\"aaa[kek]eke\")"
   ]
  },
  {
   "cell_type": "code",
   "execution_count": 259,
   "metadata": {
    "collapsed": false,
    "scrolled": true
   },
   "outputs": [
    {
     "data": {
      "text/plain": [
       "True"
      ]
     },
     "execution_count": 259,
     "metadata": {},
     "output_type": "execute_result"
    }
   ],
   "source": [
    "supports_ssl(\"zazbz[bzb]cdb\")"
   ]
  },
  {
   "cell_type": "code",
   "execution_count": 260,
   "metadata": {
    "collapsed": false
   },
   "outputs": [
    {
     "data": {
      "text/plain": [
       "False"
      ]
     },
     "execution_count": 260,
     "metadata": {},
     "output_type": "execute_result"
    }
   ],
   "source": [
    "supports_ssl(\"gdlrknrmexvaypu[crqappbbcaplkkzb]vhvkjyadjsryysvj[nbvypeadikilcwg]jwxlimrgakadpxu[dgoanojvdvwfabtt]yqsalmulblolkgsheo\")"
   ]
  },
  {
   "cell_type": "code",
   "execution_count": 261,
   "metadata": {
    "collapsed": false
   },
   "outputs": [
    {
     "data": {
      "text/plain": [
       "False"
      ]
     },
     "execution_count": 261,
     "metadata": {},
     "output_type": "execute_result"
    }
   ],
   "source": [
    "supports_ssl(\"cfurhuhjrbxqoefybl[kdcazzlfacaurqguqkz]yufsmycojcxiiomwteo[zcnzchsersrsapze]bhkpjaybdyilwdomfr[ddbxqanevcpjuodnj]ttmxojmazfqzqxlz\")"
   ]
  },
  {
   "cell_type": "code",
   "execution_count": 263,
   "metadata": {
    "collapsed": false,
    "scrolled": false
   },
   "outputs": [
    {
     "name": "stdout",
     "output_type": "stream",
     "text": [
      "242 matches\n",
      "['zlqdqmuxebccmndzbl[ykefimjzdqdmfvlflj]ptlphteflzxmolkof',\n",
      " 'igefoemugshofmibco[uhahihzaglmzdpzjvfp]tfbuuhoughgismec[inbtuzxnxekfkulodyk]fxykxfkfnjvswwc',\n",
      " 'mbweohfcgybqcqnl[yafsvfrduertfqze]hqaodhzkmhzmlrxuc[bytcgnvzvoovirqwn]njivpwgkkqvgowpenh[erodavzscuubhea]gizvzrqjzhkikhb',\n",
      " 'azrzthfimarcdbk[usfjkmhedaqpfnisek]yqowqlqvlranjjvbauq[korlrbzcgrneashdrrq]fjicirnofvlrlnnkeqb[ktlfmzrqxcntvasev]urpuwoiogtcwskygxz',\n",
      " 'qjmlxlnqzipdflotzl[mwewadvcvkoqjlvlruk]aciqxygnygyordpcvc[sirhqhrjopudmfub]kxexybjqhmqmukxmpug[bbvccqpfdebfmnvald]lgqcpzwrjzlhdcalvxh',\n",
      " 'snwnqixjgwhcrpfeun[mvseymbltdzywnw]xbogzgtddtzzadgsrin[sibgoazaxuyfaaf]tdtrrjbxjzusuvzogpa[etytgiqwoyxevcq]ifanoaaqoldczzj',\n",
      " 'laqkpspaxfqdpnrr[sskaqoytvzoxubh]viaivwettzucesoz[lfyzcvouvgaiavpxnqt]lqoedmocedvtgehdeok[gceosyhfjabmrgdhyve]fstmrfbyesmoeuzjzd',\n",
      " 'ubmtbxlcwzyjxkq[bdcpucmtupuahyhrg]qbacwmgpwrgwehhcley[vjrphfuixndpcqvlrx]myyojfenvnbulfpfvm[ebskbwkmpfpicpii]jqcknedxkvofewgb',\n",
      " 'bcocswwxbpcrscral[zrffpdwqlffhxdbocop]fsnlztdroztjsikft',\n",
      " 'vjkvkjxswlamgvcw[ybrhbbrbjzojpwlvl]btdqklkxxdhnnfiqqmv[fqksqdobgdlklrwnuc]tpdcfuyvmpksrqallb',\n",
      " 'zebobuzzdhxrqhrdx[qtxuxqkcskobopgreip]mafakpzsixxtswgbj',\n",
      " 'myokkyhemawvwbkp[dednvcdwlebnmrqvwv]ctcymbkrzawvlaago[lwspfpqgqnoionz]spabgsgwxprvjhvkokl',\n",
      " 'yxtilzostvugtfnm[pjktbtpemtuuoew]ffjbtbdbhfzsgnxh[zutqqcmomxqjevc]ckhzcprrfbfitcbfxgd[kxquqirrvhqvddtkb]ijupwzfwguufapi',\n",
      " 'zojzbjfulrbujunusw[fnunifmehxzbamnfkzd]cbfvuivasqkakmized[vbjpvzpsakndpemroh]tixjxkptjnitrbvr[bxenidaryhykquy]qtoafogjffdctmrx',\n",
      " 'rfizkxgnhnvzysv[omwubvxihthnhpfb]ghjoyszouqkvjjcs',\n",
      " 'vblsthcbmwurcllqht[fghsxxtabklblefkl]blbuqudblkhrokps',\n",
      " 'rfjmjswzmbdqilrwoi[wonhehqoslwkcuzb]mexwmjiczvztuvufbmp[wmlyprqcdprmjmhpukn]mjdqgcsbqgjhruwr[wyvwjsqvmybbwcfrnyh]wbjdjkgqajrwthha',\n",
      " 'urwjarigxmgmgswtn[xjrjsopzksvzmgjhlrn]pwjsqoxtlshyaxf[axporznuyfctqhi]gvhznwrjrxljgmotleh',\n",
      " 'pcuiwlviqnyoachj[dlgxxylhzwhuvowtr]piyiyrxcvrbtcdn[kcegjaozyiyibnh]uwlkvkmzywsidhgcej[mqgatgmrdlffpjvp]ybsaqisekhdzkgzj',\n",
      " 'voqzvcjzjclcqqiqqov[wzvjezqkeougixj]vqhvqanaiolmhkfpy[cgjtaytywwwoclclru]lrmisugdvvvkfsspfi',\n",
      " 'xqkhogolmkblkxxje[kaejzosqwxresbgogo]ggddspicalpocithils[pztbyhclifuodlwhxda]cauqeecfiwpvyvzehjk[ufzlxamwsmaxvsol]mljctouodsupchz',\n",
      " 'gxeijqyqnnjzxvigef[prwrvyqyvxzojonqm]grlrsdpfhvpfjwrxr',\n",
      " 'agxpdoozggfgqhpkups[wczujtsywkrldyoxdu]stxeteqmxajruxhxxhd[bqvzcgcflltfgfulcp]vdagkanezojneoe',\n",
      " 'xigypxktvvgvvzpsmws[fefhqqoqufcqiicnj]nrvcqtvpvsyoefeyob[kpvzkboogiefpjei]yvmewqmkwqivsdfl',\n",
      " 'msexjvtxzrrrpxltxy[hpwhplpjyxwwjstedb]lpluzxqfapmpwfncv',\n",
      " 'nzojrnbfrxvappppu[gbhscjbspyjsviyhv]crhdedgpszdouzio[unnohemwxlecqsrhtez]blgpnlvjkmvznlm[edemkrkixzunqjbbw]wrofffrmxakiqwt',\n",
      " 'hshucyqrhhwjdbyvil[rgqywsctjhucvsvsymw]xujmtuifweuvktqc[qwbxmhqfespgrzho]goevsvgqvbskpciebr',\n",
      " 'vbvnrdomobobrkd[bfluwdqgdzzswav]ydzrlrtgohvqbwoto[czodsaxtotxohnje]nqgrqyggewjmklzthpm',\n",
      " 'ycvyiclwfsqfimqbqhr[salbqbgedsalzeukosi]vsnlwynocjtwfwykobz[gigasolhbyirzzgl]nlzlwbirifimfjs',\n",
      " 'ydpbccscfptppbic[phdmkbviawxqqyqevaz]oekifajbuhythyqyxt',\n",
      " 'fxuwajvzdihghvdn[xexunkfzvyhstbz]piyivjleyasndgnny[pdakxjkrgcpejwnnujm]wdzqcrxrzpauwfmq[nuxflgndvxrxtrnjw]dkaggsnracnbfamlb',\n",
      " 'vdjlufjqpvyqgjx[omlvdzxsozlbrbkklh]avuprbrimlvpsfljr',\n",
      " 'khtrfyldigxwnrked[vmiucwzgenhgmchjz]ronhhmptnvkesvj[riapvohhcegxukqfklj]bvbujrwmkmnvbjmwi[vhheuhbyrifhvbvhmr]elejjwfebkwsgasxu',\n",
      " 'xvzclksfiyvugkjty[xiufmgdubbhqoqkuip]qntnenloqobxvrfjfim',\n",
      " 'zwsdevjtorapcmdkmqs[entskvcteinmrfm]dyxljfompsvnhnrsfoy[skzzszqseguhsajvj]uzscvlvhvjvzezqiy',\n",
      " 'rwagfoioguhsuxmnb[oqlchsmzdbbdiqs]itdkdkowiytntppqbpl[dkhveketihenwpjm]edkkekflzcsxrtbkoa[gcgunowkivsaizrergr]aykccxvaazjttbix',\n",
      " 'nilekuwvaoeaohrbuq[tmmlftxmdyjgjwlcje]gnpgjgowjlkjvdxaaq',\n",
      " 'ukixopxocpvmxvkshjq[ilowajeaebgshbmcwc]vkgphlquuttcjdcaeaq',\n",
      " 'hhqnyfyenekjnnzh[nzsivysdmzlxujnen]tpxgxxovrrctyzo[hxooqqzuwyezujqff]ufzjddsqmdynyxktvc',\n",
      " 'glveidwbskfsjrpeivl[pntgsktknixclajqmli]vpxhkfquuqueaetktv[atrmrgcsygulmewp]tbhyqvdbmmqmjfp',\n",
      " 'ekknhqyoxhdxdhoizw[ohhmxdxypqgovswjxle]gghvnqbvfolthycesco',\n",
      " 'yaklwokpliqzznn[voahnvbkbhdcrta]zpsfblandylkwetzblm[cviucbjqjxojxvfrbh]wxnmcgyslfyhjbb[xoeohbbquuflfczzrfx]huozeoewsqiqizrkg',\n",
      " 'geqomfoxmohwtay[htuvkkoolcdjuwfkfi]ufnbtalpwnzxwawdo[wljakfwmzpzfawazm]glsmrgivnyqbvze[dypzcqcwpnnuuio]asqkiocooybnwotvhxv',\n",
      " 'qgbbllwmdxvjbbdc[wilthdtqsnyidowz]fvsgrterxkfxytjo[vfbhaunwhnkucaa]nrmiutcaqjmmlvf[lslzfrijvupqytfsps]faoczeuslsurgnnj',\n",
      " 'wljuhpitnutdkehqaqy[dudxaqawkozvbzjnl]oxcprdaaoaqrmku',\n",
      " 'ervsgqmmagakjqslfzy[uvmkslgagnkyvxszev]eceaiknzayfbftt',\n",
      " 'xtliiwhelmircssh[blziuctnlnbddxzgryi]ndebxzkwjrwvlnlo[zzmptzhnmcvgmqkfive]ldkndptftrgskfi',\n",
      " 'sdeqalvkcrkrinxry[xezvqhybsiwnncuafq]wgmtvsnsbilzxdd[exabnsnnyiyrxkdd]wmtluopjkaunmyyogc[mcecujbnhewtxxny]fasqbsmncghkmvv',\n",
      " 'iamtdgvqmstvcco[hkpcvfwrobdkuxoc]mvhkxcbpjljjqdo[jycwjtxuauhgwwr]wdaorllxaauagld',\n",
      " 'eurmgfnrxqchakry[xaketetlgzadzwpzm]eypyfdyrnmlevmikrkn[suyrnrkrprufjpxro]mekswuvazvujealz',\n",
      " 'dfdmogzbwoqcxxjt[wjkxgbiadsjhasw]nahghhzvcmxzsuezbd[xldtozzfdfibzyfir]naoyetzdxxhsuayxhdv[bgnjxcjigctspvtphi]ofqodixdyoyllqwmm',\n",
      " 'tikuebtrsggwohnoc[gmsyovowwveyivxom]loedcvovnwjlxrin',\n",
      " 'pwpdkauxzallkcbpo[qpuxtpxjqpjpsurunws]hrzxcfelkqidswszccx[fuhnomwpwgiakrkt]omgjstlmqqeqpngtt[iyqymggrzzleeody]blvqxngiwkntvocjmo',\n",
      " 'btbwjpqtashnwizlfq[xhjvuaewdpuetpqi]gzshtumvqhkszakb[rqjnrhvvpgqkquwzz]bghhfjxukqknaxtnn',\n",
      " 'zzddqjgykejlqow[surormryamavdrflsu]ovbhbhiofkemrmbq[zuxaxjaolswrzcglt]plirqfvhirouawm',\n",
      " 'nhhmhupflojxmwnh[xzlsoqntfifjcapmwn]rpviveyvhkhswito[ryeeofttqkhkbmokmi]ebsnrkidkxzrwwbf[lizqaxlfqjlrglxg]gdpmskujkulqitskwfz',\n",
      " 'syuaknunjsepwcxotfy[zujyunuzyvehhqjf]wyfoxvcfmhqxhvgjn',\n",
      " 'zwjiosjujxsundbpr[qtakztwdxjnsnbj]hstbhwdwjkfujcl[zlavkjuknwcrshv]azyjashinydxtglzap[soonufsmdppzwxws]eulwduyyqxwxwtxvf',\n",
      " 'psberheospownrstmdb[hobixrwwbcjzlkrhyg]uusuyjsjdbjdipw[zfcosustjcjhunt]azpzempiylqhxzfdgd[okrowkogfwtccgrot]ezvgnigzhusxnyb',\n",
      " 'cawisrurjjercfxhg[anmauekxeejeiximk]qxxixahhioggyzxgt[ckrftztwxaprurc]cqgqlcuaxlsqrslm',\n",
      " 'jftpvubbjalxusud[gixzcxhftfszswi]pzsztljzizffceb',\n",
      " 'xxlahrtevhandbwroy[pcraznkocuurcgsj]pjajsaxktcpdvsbyyzp[tgmvgtqdcjkqsiqhi]meyzuvytavmvqvwkbt[lzpuiedmvmzcttntk]wlvylpwgbphxadzzw',\n",
      " 'nleqavohxgdpbxemz[ieaoydhnfcxrcnaea]cfnacaezpqaxeaef',\n",
      " 'tirgarumxgeguzenzic[bnvitcpldegejsk]ncqjdmckryasjokmrr[wokprgiunqngvojn]srqqnuyooampjrzwo',\n",
      " 'niibfqknwxomycwayj[uwpbncnbnbjdktrfp]xticnctzogcgummf[uymncaoblvekoeq]kycgfcxwpluejthfigz',\n",
      " 'wqkcjtsnsnrnoguze[qtkujvopoiwnsnyj]wjpnbkzsrkdmjwhk[myorbznqrnieutxbt]bivalvvdqsjssmgoin',\n",
      " 'jrcergxhhyywczqsiml[jvqkldlewhqxtqyxlje]tjxhzshbfycmdsdld[lazzgyvnsjasozw]ewmpsrjofcfvzyws',\n",
      " 'bbqtegzobdomeyp[moubpdrdmsilsvduug]kmpsljwwlfsfnxisn[jupswttsazzstqcxnns]besgduewpkaxdgfpy[sfsshbcwxpznogtpl]ggdynqzbpgfkdna',\n",
      " 'qyegpxetuwnvtxjcl[haodzsylpffsytbkbgd]duofhwftoyanbkrikbk',\n",
      " 'fdtdkedwxvfnnodin[beafbnlmeuzyeghzlnd]rpxwxuejmkfvafyzkfi[drhznurgrbstytrnirr]egmxcqmbxkhisxp[dtgdbnxelpnefhoi]fhecbdfkbdrgrgmyx',\n",
      " 'rxizygcwbwfmudujg[adxdzbnomnidudamavv]yqcigoejcfahjqioc',\n",
      " 'hoqezcmfxcbyldzbdgj[ncczfgmdqzsslvwuw]wbywkeznhcuvhyxis[giyuqsdztfjzibzuu]iicxqdsgpkzuwouu[fbbiakfcdmatawdhu]rnfjechuwuvbkjes',\n",
      " 'gfsmrmrrhmhumyqjsp[otatbgppuxthhvoviri]ydqdfbezsnbqiulb[ryqfalrmrxsencrv]cobkfmwofrhzaofnwu',\n",
      " 'extvjeumduqukszdj[qqvnhgfrlpwquqoqim]aqopphxuenwysihpqes',\n",
      " 'jcghfctceivcaiweue[eftngalnwvhjjsmznr]fawobojxajdxwqqzs[ooswxgrpxwyohdyruo]nmtyadyigbjerrgww[kawttctyrgxigajaicc]hmwgzbdzmeoyths',\n",
      " 'upnzmqxezzcuzpzi[sfbzitvncxzvdsan]bxhuatpfqfbbymcaqg[itxiiqrgfdiqhqfqkgs]gpykhbwfsnltkghfxh',\n",
      " 'bxjrsxeqhqtlklmzwr[okufumtxukxzjmrfmyw]vxgitxdacjxfufuujg',\n",
      " 'jmfdcptafqhalvgp[acykarxccznwnon]qljwybbiabdhpyf[bzdebbpnzrhbxng]fuxeqebhacjqgono',\n",
      " 'iuywcnjjgghpmpj[cnccavsvbpousjxxu]hncnlufnqhnkyfdbzbj',\n",
      " 'yiniphjdjqyhbwcqumk[vxctujvgetvbnin]oznxmbhfgorugvnbqhm[tpneajssmiyyciuv]doipfgzftkcpfgkqjg[ntoauuoaetjmwcdgl]muvskibkdazqpzle',\n",
      " 'egyjwwzzdhjpwanajg[vnanejmhmsxfuqx]kapnbrddoomlbvel',\n",
      " 'yfyhrkxnnoanzrlcdjk[qbuntlfyfapkyzmjzp]darztduyenjxyhum',\n",
      " 'jnonzlgpufyjnmamixf[ilkmivptsamagfx]rvqfxkybopuhwajawqc',\n",
      " 'svkvkdnnljqwwoda[xwznynicehzqeeurqbm]xcdbvrwhslvqnbwtkab[nwvkvkvlfbljzkuvixy]pauwjcnjdiaaxihkan',\n",
      " 'vlwukqnxcgvqvuxfkqu[qvqzcsatchyeejylo]bqsuzlobnqtzwlfeub',\n",
      " 'ceeceksffqchnmvj[izuzaozpvkmrndrc]uzubqdxupnjukurd[vuozmmzihsdnvvknl]ejerkicmcnifawbqju',\n",
      " 'kjilxivdlgapzubqvv[kdflzpupfrwemledtt]mazidupukldqsfbnzo',\n",
      " 'scdzytmxeoaepuxr[urolfouojzzrhmon]frebdwuouxgsqtqw[sgdlyvwltjrgtwhsp]xbjfuzrxrdlecygz',\n",
      " 'tumtmxzsvomlsgstv[gdjdgawczfzbzwt]ajcpjdjlvrvlivvb',\n",
      " 'mjrvqtjwmmnjifhjj[jywhwpwuhwhjuhozphc]vkyewhwcvwlilsxiy',\n",
      " 'yzymzczvyvccvgsex[enwyuawiydvyvydy]ywmzufzgdvszexk',\n",
      " 'mylmuolvzqegvsrys[slsfmaklnwmlbaqqib]ilutpaqqvgbkexrhksq[qnouzvltrmjvtstaubv]ystsornebtqdepbfn[rwzptvhlfmsvjgp]vqdaqpbjownbtlz',\n",
      " 'zlmikilitbrphmeql[fvwagtsyxxlefxij]lnrbggidsccigwmavw[nvwngkikedakbjsqg]rcsrtdkiulovdlybyt',\n",
      " 'mmmxtororwxeiudhzh[unnuvhoroijqxsnhzg]ouimxyccojgnskozz',\n",
      " 'fmbbyrmspjegfiko[sczruvfxgqvogvvrr]mmthznzttuudwccw[nlugietncjawardjjio]pdjbzwndmymhedtzgp[fmcknqodbiisnzndwo]wnschxicvsccasmxbnm',\n",
      " 'ojqzacqecvtaikbi[dqfouvlvmbnqfpg]udjpahuaagajsslu[hnphkiftfddfjrkasm]mdwjcylvlvophtv',\n",
      " 'flvgaovkteagpynv[szzperfoebcvyfkdmi]siwkxshdixitmgudlcj[cjaclojgffilrfk]wlfygguppsesoqqd[syxnwdheseoirapzsq]gtqcgykzckvsuobv',\n",
      " 'mdiwtzfahcfddvqvjil[vgejbnbfzjgjqvqjguh]xlgwswsnxqrrikunty',\n",
      " 'cvuhsnxjwqqvqnktov[isynyancutzzaegsu]wafqfzxamdssndcezf[mlcqpcptyvzubjsjjtw]ttwxrnsjspbgfpdpuyj[vcbtyvnkxvhjxqxpnrz]cejbiqkdgdoocfp',\n",
      " 'idzefrctgukgftpkvt[xhfjwjaifgstqulkjsg]eppjpjpgvlurphg[ljzttsfemjpjlgmhnqq]gxuregbxdtglnnc',\n",
      " 'hpkxpqeyumhouklxoai[qxmisohfibgoaqnkcu]czzpaxszfcimeqjjk[grwuxysxuwxcwftda]spkpkckuiswehsh[itrxjgkpkowcbilvtgp]guumzewmubuuyfafli',\n",
      " 'rivqomdhbrkecpbb[wdohqrdyvioabfbf]dbllzrwwbfbgdqktj[dxvafeshpdywcxl]uzstsjlisdrnfisduck[cjazhqptbxcixsf]nslumhmpbmqpivn',\n",
      " 'oevqjtpbljycelre[qsjbtmwnxmimbtaf]simiksrgdafhjktu',\n",
      " 'ytrjotkxynxsdlfdood[gfgsticgrqrefsbhd]dqrqmdqfitiqafmp',\n",
      " 'pvdeombqyhdeuracbsw[ogombzjnxmptwfwe]jwhfzfxjfwfkersx',\n",
      " 'oqdoxgqsnzsyoiozcv[njjfqdqpljgsqjteq]xzyxqhzwulwjggwr[vftspkxrvlidhxpz]wsluksmzthfzialzbn[rnpnecucmnumicphp]iucuubcmodrgbezfi',\n",
      " 'jtxtiohfhiutnkxrw[xpxcqczqpekfmusvwr]sbqsrjpvimcbpapxp',\n",
      " 'pcnanwdmzpshbmyw[patcrbtvevbtanaxovb]stuyxlurceqhactp',\n",
      " 'xkluztptozcnbvh[btptpdpiztmrhfijfk]ffjcwrplvkhuuxugg',\n",
      " 'dkfnlleylbdaajb[yyintvqizzzxrfcpi]tngxominnsczlht[upwicgefegpbmnrr]fxfefjvyqvdcrmglrx',\n",
      " 'hpvryeheavhrkjloujx[mhehgywzdejsbfuwey]pkrgqmqmudayqmyv',\n",
      " 'umowweqsyinygfe[grtfniugpboogtgpv]ttgtktqopjsywulprqx',\n",
      " 'uaolqhuxfyolzyzxesi[olnhuxcyyzywhqjkgcp]lhwtpfmegcpmuohh',\n",
      " 'fylubozznhbgqgl[jhujcfrttvwsynxbv]baddxoctavloxqy[ymvtyrqgqmuedvtviis]iunkknlhgoauhckknz[qluvgkvaqhrawtvvl]gbjvfrdirkhuifrss',\n",
      " 'mlmotkwsacuwslthc[dopkkfjvrkqlmluai]ziyyyuqwvtjieocc',\n",
      " 'xdtbsxcmwlyyewdci[qxtgtieblptxcrxjc]lfnfzcyzctxxwpxanp[zakzzhdzbgdmsuhu]gtrnswhdqhuhmkb',\n",
      " 'cpbomncsxcooaynbyb[nmnxjillbkzozriaic]foyuenlrilyaaiavd[dilsdxhwvvuiyrpoe]jlnmynnwhggznnly',\n",
      " 'nizwzpivrpafchpsxh[onyomxlcatphdydyb]ydydlvlpsnrpfeyz',\n",
      " 'spdalcbxoljjsnnp[fztxwiuercdzikbbk]akolwywqiysxpubgu[zbwzwtpyfmicoch]bpzsdwoconslujf[uiizmxhuylhilnor]uhrqppehrrcztkfmkv',\n",
      " 'yoktdgyjyjmxoppisp[stjvdedbirzwqtpkb]qoqkdqwkpprxztgfc[tzahjyjnmnekwyokbn]mkcaateraenzzfs[cpgyhilznfdeyxrbtf]iylvsbxcjpflwyaqjde',\n",
      " 'finznvwrtmxdkynqq[znzojlzkdfoyeqkb]fnjmchixkxmxnyb',\n",
      " 'pwktmqciycemwmznvg[hondgdpjvhllgez]zivqgvlldyvgdggevtr',\n",
      " 'geibbiqamcspqflbo[vbdzzyorxegvqrx]rktukmmbrdynjrnvfkp[djqcdeqfeydxadzbkj]hqijcjkzfbturfhy[xlmbymbynvokjtjrclw]ssbgszeektjtjabcp',\n",
      " 'lmcmocgheniqfzeh[qomoqrujzxhiicet]qplxjgcfhyhmrzsnif[jodkvnzlkjtimlkr]gevkbeqeoxpbmompr',\n",
      " 'jjshxelsbssojrjj[ivrjrnasyhnoxmy]xkpwivngxdpbfkel',\n",
      " 'tzdyticygcaeykyetwl[cxmigrcjvrnhnewd]udfdtdieexkukpkzy[zawjrmdumuqqcoou]osrlhnhlhmqvhxg',\n",
      " 'cfndlwialijdidbo[ncypuoyqemkzhwoio]mebhpaowwzrzfarmrw[wgjkjwbohgrovurdcf]tdaitjcszcmisetz[esfxareaykafawe]achdtioidaxwmeguzu',\n",
      " 'rmicaeebjkhedguaifc[ibtqvtfcjjxidapofor]tknwydhzhvxnlmzkuzc[tapzhzqftotqrxupea]oqmetuqhmbbayqk',\n",
      " 'xkoknpwqhxiwcyskvn[pelivfbuweedqcuq]aanztpskjvvzlza[bjxzezpsagcgeyxifa]snqbrmqezeryvdb',\n",
      " 'xychyhexbshcocf[bcllbjrhshfpjdn]kqmvakytshsxiww[rcxmrqbahpuufrejx]bbsdzdqgawawxgzpo',\n",
      " 'vuyhwnwrhhghobnmsso[ypxmxcajtvwbzqd]mxmglbocflgqykybs[vroinedksynhimkfhec]vtiiamzjlkuyytijwsx',\n",
      " 'esksbtqfptuausafh[izxuyluohauavcizl]tujhzjaelyhxbabqr[jcteeownyxliuzkej]elzhopaawvtxacfocde',\n",
      " 'rzuwgnempzphmgnh[lkundnoojtdrkti]xxvspbgofdndkrx[hgfxulqnzphcikwe]tmyxnsphrrngczazivi[wgtqdnjtltyjppzck]wgbdjvlzooehfdvv',\n",
      " 'zvfttfwzyzswyodn[dudhsomamquabhgy]ghamazncxlbnklaaobg',\n",
      " 'gwllhhyjfqdxindt[ujepssulchcxjwbcduv]raslrbcyvxgueavlmkb[woylgjdprggsgzwuct]eiknvynbmazkxyny[yfialkiqtlmqulr]asgswneidhdmgfiknbv',\n",
      " 'hwcjiwcxcssnmnme[xlzppuxcxdpbvewby]pqdeqfmdyqmmbxqiupc',\n",
      " 'gadnesbuiuzqiafjcc[kwctfzdkxtdliuixxom]arycduudngofnpj[rmqwuilezdfcxtofsk]segxynmaclycgpsqag[hzptpxllgogeyvszlr]nyrltuncqkfwiiskkg',\n",
      " 'kmtekihebcvsgty[pwnqwysyzlkahwyj]dsysyduxqgefmlnqc',\n",
      " 'vvsldrdbnolxydxoqz[uixwbpbqrdstyzc]mhoawiztewjblvq[xkwujyclunjamftlq]eldrjkncwnehqmaike[cwsnbvecidbdelw]xjvnnvpbpadhqeob',\n",
      " 'nhfknvbxgvyyekeq[djldkdfocjbdaofo]fvvyptzxmpliiwkdkc',\n",
      " 'jjgkskszndlsflsiku[lwkwgieeyzicudn]utxrgdosycuhgqyeo[sanykskfeywnenzsm]dgnlnzwavpmubah[qyizyckdbvmfnqx]gbzgzwnlyuscspgw',\n",
      " 'kmqmgmcggamtiyhlo[utsphbkqmqkyzcwyic]pjbmuokwcjdqlrhtu',\n",
      " 'colpncvdwwypholo[wnxyprbzhmywlolp]jipzcbvsklxbkat[bsiwaewerxxrneg]bcutnstrcvyuzewzqbs',\n",
      " 'yoatzqilyyuivop[ykxyngmmcmotrjlkymi]yzsqqgxjtsuavagzznr[smtoxkxsmqjlxmdzmb]cmcobacpxmkwbywd',\n",
      " 'rirrbedwvrscctg[icfecwbutkswyiri]knghflubjptlmwdr',\n",
      " 'eiiutongpvrxrkpyji[ykswsksoqhqbvgnl]yquftkxgwginbemff[mrwvbtwcnuacsfw]ykskpjofajoangpf',\n",
      " 'xpthozpeiuyqbalwlq[tdzyiluslgrohvirzra]cnjwxduhfoodixkpeog[xebrsoiwtjrewzh]nzrzyfybbfvpxvsr',\n",
      " 'qmrlrhbmhyegvyobjsg[deqoctrkekususgjm]fhxydpcmqstrssd[zpzkryziyeeuagp]vfllzbrkzqysusj[fgzaapjznvxkkijhfne]xgslyehnivgjwlacf',\n",
      " 'pbjjgieinycscdiobs[fyqreavhvawquxnxpxu]aazgdyvkdvlsjyfqf[yrnwyrfmqgcwmlzhv]zbzntnpmfzhauaca[qgefeedmgiwkuglwtnt]koefqstfjnjvlfl',\n",
      " 'ntutqubuhxoxgnf[kfvmpjlfxoddjayycx]gcdnaqzocopwfagqaw[fjlxtzmovoxonva]igucqjnidmvownm',\n",
      " 'assvouxaowizazddz[mplcyrqagrfmhayalce]qumunneqmgcqjumlyyr[nbdtvazalavaphpbkdl]ifhwfyhtoluqhduhk',\n",
      " 'ttnzbewupzwmegpg[rwmfymeikipraohixzp]cqizvjgmnfpvozqlyw[aotszpssukxnowbsq]cjqezsjomiuwozfq[uudmrnbsgwpjxhhklom]qhykiktusplvbtjznc',\n",
      " 'uevhmwoihdeptrrbuwu[aicgbidnmgmreid]gmggvetrrwmcokjys',\n",
      " 'yrqrmaofofelmoxpewg[wmofoarjyntpilizux]bobughtzaqqrpdd',\n",
      " 'ougekdkucjsgirpulu[qlullmdjnkzkimvvlkj]jqhjyswrljnfkswi[mcjvxpehvshbmtwnj]yackiargospshqt[wnmbjhzaediycalz]klzlghrqnxqltkbpg',\n",
      " 'mxhhowgjvvhisjxieu[yaadtkrdtxuxeld]uxudxctvuuwkjzhny',\n",
      " 'akauiqiexienuidqzps[npxzqticzqaizfqbwm]jsesrfmbdzcftaxlz[rvhfqiblhebjwepojcc]vjgzyhmlrxzpisjjdo[rdxcqiqtiqibdbpb]upycfngdlyklyvngtm',\n",
      " 'odzricjacwsewcjd[vjypaumdqwkgmngyj]bwfxysqxlicvqojr[gyixcgtfturmeydy]rhoreeupdydkevr[bhpmatygcagiztnwtc]apzgavbokckosesptz',\n",
      " 'mnbaiffupkfxpemr[uyzufdzkfvngnoogpb]sssjqfesnoegngu[pxoxygfniklvhwgfcp]kydobvhxtomntdmwp',\n",
      " 'nsikjklxfeoitvqob[vmbxlzqgdqmynzp]bplnmqtnnhvpvff[nmlhjuneukjvjkjgzj]xmbqpenxqpfxvhbwb',\n",
      " 'xulziztgnwdhcydxzsv[nwmualmytxsvfaef]lfnpclsvannzeyxowic[lnmesizizcaeghofyz]tldjkalslgsebiahzme[bwteirgjsnquwgpupjg]rwzvvwdgezrfprexsm',\n",
      " 'qbkppwaozkpalvyvf[eslfeupnrsraqxhlh]vfvgdbmkspbwwiilhl',\n",
      " 'rkxvyikqysdqwztrwwk[iczynwoubxdxwbwnw]oxdcxqabwbdlxxghnaw',\n",
      " 'kfvnwyoxswzgegno[dbikkhvqdsegehty]jykwesaprpfogcz[etrqyxauilhcmeoubro]pdbgsjhckpzvbpkuv',\n",
      " 'zlrexphchavfoxs[xkchcuxvaopujja]bkdxsliitppkzdiilyr',\n",
      " 'ikdnhbshmkoxydhi[igxtbmlowljhwzvfrz]vfjleyvxsebiiwshc[fedmlcegwiimlpenksd]xofxlghgkfdbmhqdsy[arfcqdwqjqfaysgwdmr]gyrzltwzjqjlgwoe',\n",
      " 'hyjjgytpckgliajy[dwfofthghxucnptv]biobdtckvjbmofoo[grpvjhgzqqqpkoehk]wvkwkavjrcmawnzzk',\n",
      " 'epqetfblxhozpueih[bnecsbzyoqeuyxnhuc]kxgpnameztkuffn[mjaxorphexetglamhhb]srhzqpfrdqkpuaxex',\n",
      " 'xzahgksigbgoeycd[pbbgbjtxjfkrptf]bitjutwxsausvhtfy[emvnlpxrcgnlaosu]sgblxqbkfzzdfjqlat',\n",
      " 'lnxfcfoxpklsxhnad[tvttrczwyrwrfsldkv]xvoyvjxkqmfstppn[kyeclggkmleveqlw]vtvsxvvrprmxvdxll',\n",
      " 'xoagoeyhlcfwjijvv[vhtyjwosozccevd]yygksnlkcsulkxwnn[xjxhtcibykdzzito]vhpzqcjyngshmxvqfpx[nxmbzwbqntpjbly]nkrlhmjwwnisoslom',\n",
      " 'bngreaenftyseubam[isooaeaaujjugyacg]prqqjctbrrvwlknev[hsudwgxcmeoeklchs]uyrmhtzwgbwqowwk[durtalssedcdpbpj]afxgbeoposqwbjj',\n",
      " 'shkthohfaiuffqja[kypzkqszyejltld]zlptltkzsntvjftooga[nrevhlgxlxrdhfp]ntoiugoblmiyblfgz[etmdfpjnkssxxmflzgq]uameicduzizvskxt',\n",
      " 'zkbwjiaiaapwrtl[zmdjoypqpcoohwiai]zhutipipeeoaggj[ipicjufclvyscnyhyf]vjbdthqyehomdvj',\n",
      " 'rfivrodvhzbdcbrbdg[xepcryrugrdvdvu]oktqcihzwmkigwdif[utknwrvopeqnznelzsu]jhlayryeovpwlqqq',\n",
      " 'qlzyhenvpnqlhftocwv[fgxvjjpwadeflhq]omyqdbxvdqvqwcwj[pvqpclzgyuxqsozsoiv]rbftgqwizitdviltxdz[twhkknisnspuzizics]yshtpvvilxzynzx',\n",
      " 'aferniqruinktcmafzd[zwmijickemmrgtqgl]pabcgqclmnkelnd[rnylsjpdxphsetesnsb]oansnqzlrsdzsoxufj[ygbbwrrxuceezoxmjlt]cdhxylrchoniesm',\n",
      " 'pkcrwivfpomxfofcqe[xrmhrperqofodgfdlt]dphiiahoqqquedgjrio',\n",
      " 'mqrofejeandcwdb[euzfcxvwvjgjsrjejm]zvialbaxczkcbamow',\n",
      " 'lzexedsejjsovjhhmzq[xdzmigtseqsprybxex]ctqumfhtaatrinmk[dfqxslvuwdnqimy]ilfphdggfbvvmuuox',\n",
      " 'gaptucbphbcauhpb[inmcacncuhnijxba]wojvrbwisnpqgom[lholtuvxkozwvqicgqc]yfqvzhaxgbtrtpt[lfwlypvzebajjcrfg]jptstikegtittkncnp',\n",
      " 'rdmqymmuuvlqlifp[tunrfdqlqcskqzfn]mznubonmfmnddggsl',\n",
      " 'jvjvdwddugygslqxxlh[khubfdbygyumlsz]klhfsjpeedjxsxbugq[zgyevzlwzhypnsjw]uqsfyxqdhtyhhqp',\n",
      " 'conkuduwkjlgrfc[evbshdudauhmqhejp]vgshestjrgoxjmtedf',\n",
      " 'mcrxrkwvqoctzkthwzs[wxgrtuvzcyprxrxyu]xlbiinpyuhhzyxrppup',\n",
      " 'ykhxmwleggpiyzbu[zslsjywxxtxviladgg]txteqpaaovqculopkrz[awtygoizdamiaglxv]dbicgkaacrvfgyv',\n",
      " 'xzriccfleusulnlvvt[vtsussorofvupuwrat]idoigjzaiabmlbwhcas',\n",
      " 'mziqkskltbhvghsfuyu[aculbnusbqlnhnwpwt]nbmpwptnavupjxs',\n",
      " 'ckbqoxrgztxewnlzt[xmndrwzvoououidh]natgwmoyjmlqxspdouo',\n",
      " 'pddpgibqytztkbgsuq[ymujijikkoudcngw]beufjijpbvnumuim',\n",
      " 'htryepnqeptnntbvy[ruetrynxkllonponrzp]uimyvygbbjskgfuuu[gossoavktylxmncyyfs]yotrlpozunzomjtc[tgoikyfrrmlvyvoe]rlnwzyigyvkhequuh',\n",
      " 'ucnygbobqgvuyiuhxje[fuobokgfwbvpqbfiyj]jxcvhlictpfkaour',\n",
      " 'rhuckpaaqppfdoo[wioieplfptapozwb]uoiohcdkyohvsjiis',\n",
      " 'psonarhezabpfsifv[uaqwtwobaexigqnc]fuqrrfgtwtqvbnjjx',\n",
      " 'ovgbmdielzykiofb[oiujujsxewzjczsowk]ptlvujuolzevdlij',\n",
      " 'kyindqkvkdulbxbu[twxhaiaixtafaydx]iwbaxohuhfafreuc',\n",
      " 'sirqeuilhguzjwoildl[ddldmsqqierffbvftq]xniqqnqutqzclhoj',\n",
      " 'uyjikikqsxdnvvqptpz[ymhsvvjxoijzkftht]hmcmhhdmmxkuzhfcifq[dwoqersxcrtdzdwa]rfxvekmjgrdfutfyrc[xhbfbjylhvtptculh]lbbwcmukfgskjvhyrf',\n",
      " 'mjeioloitmqjfxpxk[jrrpevldwlolkfoaur]ozkxincwxwnrtwqaoqj[bowfbswohzbtdojftd]coiebgoxmwyvcsd[utolilugilysyjfi]ivzfjbjdkrldfxv',\n",
      " 'aavzczotsjkzjqd[spctqczcqcyjbch]abwtqpotbsyxnqm',\n",
      " 'owgmknvhkuwplumklyv[tpcacgallsjgeuf]estbhqisggkmxcrxt[cecydypetuklwahrxs]okdiwhdydchkjhei[tpunnntujbzwjwrq]bcpxsvagbvvxiissg',\n",
      " 'mgvvtoestsdfrrkqdp[jsgddzbtstbtgwcz]wbewvyvzgfcitls[byvjjhihwocudzfpw]uvswjmgdmezggeklden[zomsrocssnjxwxunet]gexqvwznakldhnds',\n",
      " 'agnvlcifudtpkskhz[ssksropazylummmbch]zjssxslmlnmjoxxf[wmedjpjwjtijfmucv]frmxcjyvhtnyglrkgxq[immpojsucooxlbdwz]jiqurgdnrjejroukde',\n",
      " 'uvfviatjevwnmugvgk[jwpgxsfvfkijpdxo]wpdwqxjmxddyigesygp',\n",
      " 'qjsbieiciaeemfblfac[jjudeshcfzeiezuepgg]ktjghduwspdhkldzjyn',\n",
      " 'xioeqonkswrhfwqt[hmpztzezyzpqafedtpr]wmwezeoixeriejbskie',\n",
      " 'scrsvkbwabaqpjs[xiijpmbiflmxyxwkfn]iysftpuvocbtwaggugf[yrqyvyoqxniqxcxmbqq]gixcxmltuozcxcqehl[kutzmitklfdfouflbh]xdozmussjlcttdf',\n",
      " 'xxfucigatkfvpubv[yrpoezyzhwkpkkkmot]vapkpzcbwhacbrp',\n",
      " 'vkfmkgsnqpgareui[lfezzjgbdptknrxfq]aatkorgxlumdhvjay[ngkudbpkmdvdskihzh]nyhmsgfgpuzhzkbh[vuejragqqtizjmqeqdo]ascjasathqvncdnkd',\n",
      " 'nykwyqwbrhifjickcwr[bkwtqhihmczedyoubdj]jjwfyabbyjjqihit',\n",
      " 'yuhhdmuebufhyly[llyllkurxorkwlx]tbpgsrxtmztlofcobjs[mqoepigsswhitdcnd]gxjxulsmxzqjnyx',\n",
      " 'qqtgcjcihigaujbt[xqlhtduvqwoxtos]vpuvpxdusalphiafnq[jmwiomadjxspohwrxi]zjymzmygsnzzulziln[vqgdgsqkzgzbzbcsxd]xitnhrochbzbthxnzkr',\n",
      " 'kqgccpaxaiawhlxwvao[jwqdyozkwlkjxaxeae]pmzegiqggikntebuqdf',\n",
      " 'lkhvmxrbbthjzsqn[vrsinufxgtdplcziyi]udnwpmlftjjyiyr',\n",
      " 'jtoauqvnncjmeigaamx[kfymrhjevoyhepqnc]ihlwiegxzchevpf[zxjjidnncpzbzaw]ebixvaawkwocytx[qlxbemucbynolblv]bzbjrtnghmcdkscxx',\n",
      " 'amfxjvxvdmerqowdnxe[cumwepdamezeecnq]lkezawesphsybimf[lapqafmfsivtmytdoda]vmfmejuxoigyexwwyo',\n",
      " 'ibhwnndalipgwboov[oetxmvnstllojrpjggr]raawxffqpbwaoafsvfa[voaodafksfxrkimxfac]mrklxyjcdcfbsmpp[ojavtfuwkeogikk]exijoqwqduzdnvpf',\n",
      " 'mplyixtwewxpmgxnmgi[ngrpejtnvrgwtupvr]kesjeqyleotfmggcea[zzokvnfeweaduwzfhrw]obyjyyqjkucokbu[snbyhfbchhqxknu]fivmakraikkuetpria',\n",
      " 'fkfbhopbvmmqxthr[kfkibyedkqhtkdu]fntaxfihxuwwpnxe',\n",
      " 'cwvxqqouchaqwkhpcfz[elwmjtglbrbyxnyoyyd]nccylfdoyorjbdi',\n",
      " 'mhexuvtezfzxnevd[drllkjffzfmmukleut]soquupmvgilyzsr',\n",
      " 'mfdxppslkzpwvwr[mavnyeavcuoywuv]vspiiafyboscewkcsmq[pyevwvptadphrskuivp]tekdmxlgmnwjgcs[aewugqwpbpvyrmqmyyi]cuedkzylgatqgpdc',\n",
      " 'ghesvpyxqricmgcmj[hvfcvovijglkxubrfqf]lbknfpyahabpypl[gashwurszsmlhfui]rsyxunohtmwvqfqslr',\n",
      " 'bthfaqnohcrtyvcevz[shahnffqoqjxmsaskyl]hjtecdroaharoqqlwme[xoknhnevqdeypythrj]pcsqbcykpskqvofn',\n",
      " 'ivzrwlxpxgzuuuqmtru[czyxcfcxribjycj]pntvptdzblfosriqk[lojzoiluavlebquqtex]sxfcfejktdlltmx',\n",
      " 'cevcyseikybcbnmn[jpmyfkdmnmrhyakru]dxlrbhtjtuihtsdde[wvcrjtitpvlnyppnc]lcnpitcbcmfxhkrrjew',\n",
      " 'fiilqdyckyxglumal[mcmerdidyzyvolqlsu]tybpakjvysehukdzfs[hkquimszsyiivblq]ifkovlrqhlnvdcmctpw[bbfmqiuidwwtvxcyxsh]rxbulmjkszwcujvoxx',\n",
      " 'pczqpuroxpifexe[uqcqtneiektkmrb]nyoakxnlgrxobwlduux[dhhfoxkqvnvcchsct]cqcouyerjxmkbkjccg[idyikrwqdreiyhsxdcj]xlzoyafazrrbdwljnd',\n",
      " 'mpmjnhjgnmnqwowd[lfanwgamnmdxwiqe]npfvhehcxtlgcrzid[chzvtakthbbfgaamref]oaxeaktsxndsanlhxze',\n",
      " 'ihggeghdsdhixvlbmr[csjfaddciewuprmr]kkfiuczfhmrmgolb',\n",
      " 'ztiyoyrgufqxkfk[hsftvmvfjwplrbxum]xdeuxodxrcfwsvr[ifkfgxpuoehydemf]rqcnabfgqyrbtoxkp',\n",
      " 'xhlfqbqoatmvrfpe[wrfmrapwuzhqmqmzmy]wkmqmtbyshkyfwzo[zcifoyozwurqexe]pysjwmlknukydpnrzan',\n",
      " 'elexrwwnwmearzxuzi[ajkpdbxrtpnwngx]raybcmpouawjfqlujp',\n",
      " 'owjicopdgvoloyswyiv[wqqpvlolkvkeyljrxd]dtnqlobojrurxvhmoig[cwiehwzvrmhtqyfmlvo]ztvfpgydalzyzky',\n",
      " 'rhaynhcvrkoikpbamh[tbgjdaikneziopop]czthnlotpopwgdvcl',\n",
      " 'bubxbqqbnbouodcgxzw[dowpsrdjpuuouuh]rhnrizcztkilhuuwhbh',\n",
      " 'xcvjzwaytzttyobv[bzpagodqlpmmsgy]xpdfkpgsmkgpvkxumlu[chfejuaglsrkruoa]nagzgkrkpyxvjvlr',\n",
      " 'zywvzrdkcvqbmwsbkuo[hipsuufkkjiunlqu]uhisdpbjcvkpunlayhr[iethrnmpmidjjrnnv]qnwoxpmbpmpnilkbq',\n",
      " 'uropacyqybozvyr[eqrnjuuhlopqyqh]rvznyebhzjhjxkuels[iepxmgnogtcfiwcfx]gxszowxzwkrdjvohtk[uegnjpnkrqqmnnmxjjm]lvxhojwlawuzsszq',\n",
      " 'mpeadvyrbgymqhl[razwybnbnxlpdqdtp]imkqmksortpqdqmka[ykbtopscgbsursrwj]evdetgtlaoimeqemyq',\n",
      " 'gywgdpzjikpouyzhhx[fznqxhtzozbzijwjvk]ivvlsbwjwxhymwpmdsw[fehugmercmvunun]tltuczprzfvplhqcpi',\n",
      " 'nefefqadkmytguyp[ucqagcoyxinbrvbw]neksoxgtnnfojobtx[bxhdwvwfhybtbzkijj]poayieifsaocrboesfe[tnggfefcucifowqp]olmjwaqlaiwkkbtruw']\n"
     ]
    }
   ],
   "source": [
    "with open(\"Day_7_input.txt\") as f:\n",
    "    matches = [x.strip() for x in f if supports_ssl(x.strip())]\n",
    "    print(len(matches), \"matches\")\n",
    "    pprint(matches)\n"
   ]
  },
  {
   "cell_type": "code",
   "execution_count": null,
   "metadata": {
    "collapsed": true
   },
   "outputs": [],
   "source": []
  }
 ],
 "metadata": {
  "kernelspec": {
   "display_name": "Python 3",
   "language": "python",
   "name": "python3"
  },
  "language_info": {
   "codemirror_mode": {
    "name": "ipython",
    "version": 3
   },
   "file_extension": ".py",
   "mimetype": "text/x-python",
   "name": "python",
   "nbconvert_exporter": "python",
   "pygments_lexer": "ipython3",
   "version": "3.5.1"
  }
 },
 "nbformat": 4,
 "nbformat_minor": 2
}
