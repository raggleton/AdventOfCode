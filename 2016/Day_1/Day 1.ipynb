{
 "cells": [
  {
   "cell_type": "markdown",
   "metadata": {},
   "source": [
    "# Day 1"
   ]
  },
  {
   "cell_type": "markdown",
   "metadata": {},
   "source": [
    "You're airdropped near Easter Bunny Headquarters in a city somewhere. \"Near\", unfortunately, is as close as you can get - the instructions on the Easter Bunny Recruiting Document the Elves intercepted start here, and nobody had time to work them out further.\n",
    "\n",
    "The Document indicates that you should start at the given coordinates (where you just landed) and face North. Then, follow the provided sequence: either turn left (L) or right (R) 90 degrees, then walk forward the given number of blocks, ending at a new intersection.\n",
    "\n",
    "There's no time to follow such ridiculous instructions on foot, though, so you take a moment and work out the destination. Given that you can only walk on the street grid of the city, how far is the shortest path to the destination?\n",
    "\n",
    "For example:\n",
    "\n",
    "- Following R2, L3 leaves you 2 blocks East and 3 blocks North, or 5 blocks away.\n",
    "- R2, R2, R2 leaves you 2 blocks due South of your starting position, which is 2 blocks away.\n",
    "- R5, L5, R5, R3 leaves you 12 blocks away.\n",
    "\n",
    "How many blocks away is Easter Bunny HQ?"
   ]
  },
  {
   "cell_type": "markdown",
   "metadata": {},
   "source": [
    "Let's formulate this problem mathematically. We consider position $\\vec{x}_i$, and want to go to position $\\vec{x}_{i+1}$. This involves taking a step such as `R3`. Each \"step\" involves a $90^{\\circ}$ turn either clockwise or anticlockwise, followed by a step in that direction with a given length. \n",
    "\n",
    "This can be written as:\n",
    "\n",
    "\\begin{align}\n",
    "\\vec{x}_{i+1} &= \\vec{x}_i + \\vec{s} \\\\\n",
    "\\vec{s} &= s \\mathbf{R}(\\theta) \\vec{d}\n",
    "\\end{align}\n",
    "\n",
    "where $\\vec{d}$ is the unit vector of direction from step $i$, $\\mathbf{R}(\\theta)$ is the rotation matrix to describe the turn of angle $\\theta = \\{\\pm \\pi/2\\}$, and $s$ is the magnitude of the step.\n",
    "$\\mathbf{R}(\\theta)$ is:\n",
    "\n",
    "\\begin{pmatrix}\n",
    "\\cos \\theta & \\sin \\theta \\\\\n",
    "-\\sin \\theta & \\cos \\theta\n",
    "\\end{pmatrix}\n",
    "\n",
    "e.g. $\\mathbf{R}(\\pi/2) \\vec{i} = \\begin{pmatrix}0 & 1 \\\\ -1 & 0\\end{pmatrix} \\begin{pmatrix} 1 \\\\ 0 \\end{pmatrix} = \\begin{pmatrix}0 \\\\ -1 \\end{pmatrix} = -\\vec{j}$\n",
    "\n",
    "where $\\vec{i}, \\vec{j}$ are the unit vectors along the $x, y$ axes, respectively."
   ]
  },
  {
   "cell_type": "markdown",
   "metadata": {},
   "source": [
    "All that remains is to define the starting conditions. So at step 0, $\\vec{d}$ = $\\vec{j}$, and $\\vec{x}_0 = \\begin{pmatrix}0 \\\\ 0\\end{pmatrix}$"
   ]
  },
  {
   "cell_type": "markdown",
   "metadata": {},
   "source": [
    "The final part is the distance. This is defined as \n",
    "\n",
    "\\begin{equation}\n",
    "d = \\sum_{i=1,2} |x_i|\n",
    "\\end{equation}\n",
    "\n",
    "(i.e. sum over vector elements) since the starting point is the origin by definition. Note that this metric is different to normal Euclidean space (which is the sum of _squared_ distances)."
   ]
  },
  {
   "cell_type": "code",
   "execution_count": 1,
   "metadata": {
    "collapsed": true
   },
   "outputs": [],
   "source": [
    "PROBLEM_INPUT = \"\"\"L4, L1, R4, R1, R1, L3, R5, L5, L2, L3, R2, R1, L4, R5, R4, L2, R1, R3, L5, R1, L3, L2, R5, L4, L5, R1, R2, L1, R5, L3, R2, R2, L1, R5, R2, L1, L1, R2, L1, R1, L2, L2, R4, R3, R2, L3, L188, L3, R2, R54, R1, R1, L2, L4, L3, L2, R3, L1, L1, R3, R5, L1, R5, L1, L1, R2, R4, R4, L5, L4, L1, R2, R4, R5, L2, L3, R5, L5, R1, R5, L2, R4, L2, L1, R4, R3, R4, L4, R3, L4, R78, R2, L3, R188, R2, R3, L2, R2, R3, R1, R5, R1, L1, L1, R4, R2, R1, R5, L1, R4, L4, R2, R5, L2, L5, R4, L3, L2, R1, R1, L5, L4, R1, L5, L1, L5, L1, L4, L3, L5, R4, R5, R2, L5, R5, R5, R4, R2, L1, L2, R3, R5, R5, R5, L2, L1, R4, R3, R1, L4, L2, L3, R2, L3, L5, L2, L2, L1, L2, R5, L2, L2, L3, L1, R1, L4, R2, L4, R3, R5, R3, R4, R1, R5, L3, L5, L5, L3, L2, L1, R3, L4, R3, R2, L1, R3, R1, L2, R4, L3, L3, L3, L1, L2\"\"\""
   ]
  },
  {
   "cell_type": "code",
   "execution_count": 2,
   "metadata": {
    "collapsed": true
   },
   "outputs": [],
   "source": [
    "import numpy as np"
   ]
  },
  {
   "cell_type": "code",
   "execution_count": 20,
   "metadata": {
    "collapsed": true
   },
   "outputs": [],
   "source": [
    "def generate_rotation_matrix(angle):\n",
    "    \"\"\"Generate 2D rotation matrix.\n",
    "    \n",
    "    angle in radians.\n",
    "    Returns numpy matrix.\n",
    "    \"\"\"\n",
    "    return np.matrix(\"{cos} {sin}; -{sin} {cos}\".format(cos=np.cos(angle), sin=np.sin(angle)))"
   ]
  },
  {
   "cell_type": "code",
   "execution_count": 21,
   "metadata": {
    "collapsed": false
   },
   "outputs": [],
   "source": [
    "def take_step(start, starting_direction, step):\n",
    "    \"\"\"Returns position, new direction, and step size taken after a single step.\n",
    "    \n",
    "    start : numpy vector (initial position)\n",
    "    starting_direction : numpy vector (current facing direction)\n",
    "    step : str describing step e.g. \"L2\" \n",
    "    \"\"\"\n",
    "    if len(step) < 2:\n",
    "        raise RuntimeError(\"Step must have form [LR][0-9]+. You gave me %s\" % step)\n",
    "    step_direction = step[0]\n",
    "    if step_direction not in ['L', 'R']:\n",
    "        raise RuntimeError(\"Step must start with L or R\")\n",
    "    step_size = int(step[1:])\n",
    "    sign = 1 if step_direction == \"R\" else -1\n",
    "    rotation_matrix = generate_rotation_matrix(sign * np.pi / 2.)\n",
    "    new_direction = rotation_matrix * starting_direction\n",
    "    step_vec = step_size * new_direction\n",
    "\n",
    "    return (start + step_vec).round(), (new_direction).round(), step_size"
   ]
  },
  {
   "cell_type": "code",
   "execution_count": 22,
   "metadata": {
    "collapsed": false
   },
   "outputs": [],
   "source": [
    "def calc_vector_dist(vec):\n",
    "    \"\"\"Calculate taxicab distance for a vector\"\"\"\n",
    "    return np.fabs(vec.A1).sum()"
   ]
  },
  {
   "cell_type": "code",
   "execution_count": 23,
   "metadata": {
    "collapsed": false
   },
   "outputs": [],
   "source": [
    "def follow_steps(start, starting_direction, steps_str):\n",
    "    \"\"\"Follow a series of steps\"\"\"\n",
    "    for step in steps_str.split(\",\"):\n",
    "        step = step.strip()\n",
    "        start, starting_direction, step_size = take_step(start, starting_direction, step)\n",
    "    return start"
   ]
  },
  {
   "cell_type": "code",
   "execution_count": 24,
   "metadata": {
    "collapsed": true
   },
   "outputs": [],
   "source": [
    "START = np.array([[0], [0]])\n",
    "START_DIRECTION = np.array([[0], [1]])"
   ]
  },
  {
   "cell_type": "code",
   "execution_count": 25,
   "metadata": {
    "collapsed": false
   },
   "outputs": [
    {
     "name": "stdout",
     "output_type": "stream",
     "text": [
      "Distance: 5.0\n"
     ]
    }
   ],
   "source": [
    "# Example given, answer should be 5\n",
    "end = follow_steps(START, START_DIRECTION, \"R2, L3\")\n",
    "print(\"Distance: {}\".format(calc_vector_dist(end)))"
   ]
  },
  {
   "cell_type": "code",
   "execution_count": 9,
   "metadata": {
    "collapsed": false,
    "scrolled": false
   },
   "outputs": [
    {
     "name": "stdout",
     "output_type": "stream",
     "text": [
      "Ended at\n",
      "[[ 143.]\n",
      " [ 136.]]\n",
      "Distance: 279.0\n"
     ]
    }
   ],
   "source": [
    "END = follow_steps(START, START_DIRECTION, PROBLEM_INPUT)\n",
    "print(\"Ended at\")\n",
    "print(END)\n",
    "DIST = calc_vector_dist(END)\n",
    "print(\"Distance: {}\".format(DIST))"
   ]
  },
  {
   "cell_type": "markdown",
   "metadata": {},
   "source": [
    "## Part 2"
   ]
  },
  {
   "cell_type": "markdown",
   "metadata": {},
   "source": [
    "Then, you notice the instructions continue on the back of the Recruiting Document. Easter Bunny HQ is actually at the first location you visit twice.\n",
    "\n",
    "For example, if your instructions are R8, R4, R4, R8, the first location you visit twice is 4 blocks away, due East.\n",
    "\n",
    "How many blocks away is the first location you visit twice?"
   ]
  },
  {
   "cell_type": "code",
   "execution_count": 29,
   "metadata": {
    "collapsed": false
   },
   "outputs": [],
   "source": [
    "def follow_steps_duplicate(start, starting_direction, steps_str):\n",
    "    \"\"\"Follow a series of steps\"\"\"\n",
    "    locations = []\n",
    "    for step in steps_str.split(\",\"):\n",
    "        step = step.strip()\n",
    "        new_start, new_direction, step_size = take_step(start, starting_direction, step)\n",
    "        for i in range(1, step_size+1):\n",
    "            inter_step = start + i*new_direction\n",
    "            if any((inter_step == x).all() for x in locations):\n",
    "                print(\"Found duplicate location\")\n",
    "                print(inter_step)\n",
    "                print(\"Scanned through\", len(locations), \"locations\")\n",
    "                return inter_step\n",
    "            locations.append(inter_step)\n",
    "        start = new_start\n",
    "        starting_direction = new_direction\n",
    "    return start"
   ]
  },
  {
   "cell_type": "code",
   "execution_count": 30,
   "metadata": {
    "collapsed": false,
    "scrolled": false
   },
   "outputs": [
    {
     "name": "stdout",
     "output_type": "stream",
     "text": [
      "Found duplicate location\n",
      "[[ 4.]\n",
      " [ 0.]]\n",
      "Scanned through 19 locations\n",
      "Distance: 4.0\n"
     ]
    }
   ],
   "source": [
    "# Example given, should be 4 block to East\n",
    "END = follow_steps_duplicate(START, START_DIRECTION, \"R8, R4, R4, R8\")\n",
    "DIST = calc_vector_dist(END)\n",
    "print(\"Distance: {}\".format(np.round(DIST)))"
   ]
  },
  {
   "cell_type": "code",
   "execution_count": 31,
   "metadata": {
    "collapsed": false,
    "scrolled": false
   },
   "outputs": [
    {
     "name": "stdout",
     "output_type": "stream",
     "text": [
      "Found duplicate location\n",
      "[[ 158.]\n",
      " [   5.]]\n",
      "Scanned through 624 locations\n",
      "Distance: 163.0\n"
     ]
    }
   ],
   "source": [
    "END = follow_steps_duplicate(START, START_DIRECTION, PROBLEM_INPUT)\n",
    "DIST = calc_vector_dist(END)\n",
    "print(\"Distance: {}\".format(np.round(DIST)))"
   ]
  },
  {
   "cell_type": "code",
   "execution_count": null,
   "metadata": {
    "collapsed": true
   },
   "outputs": [],
   "source": []
  }
 ],
 "metadata": {
  "kernelspec": {
   "display_name": "Python 3",
   "language": "python",
   "name": "python3"
  },
  "language_info": {
   "codemirror_mode": {
    "name": "ipython",
    "version": 3
   },
   "file_extension": ".py",
   "mimetype": "text/x-python",
   "name": "python",
   "nbconvert_exporter": "python",
   "pygments_lexer": "ipython3",
   "version": "3.5.1"
  }
 },
 "nbformat": 4,
 "nbformat_minor": 2
}
