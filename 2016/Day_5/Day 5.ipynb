{
 "cells": [
  {
   "cell_type": "markdown",
   "metadata": {},
   "source": [
    "# Day 5\n",
    "\n",
    "You are faced with a security door designed by Easter Bunny engineers that seem to have acquired most of their security knowledge by watching hacking movies.\n",
    "\n",
    "The eight-character password for the door is generated one character at a time by finding the MD5 hash of some Door ID (your puzzle input) and an increasing integer index (starting with 0).\n",
    "\n",
    "A hash indicates the next character in the password if its hexadecimal representation starts with five zeroes. If it does, the sixth character in the hash is the next character of the password.\n",
    "\n",
    "For example, if the Door ID is abc:\n",
    "\n",
    "- The first index which produces a hash that starts with five zeroes is 3231929, which we find by hashing abc3231929; the sixth character of the hash, and thus the first character of the password, is 1.\n",
    "- 5017308 produces the next interesting hash, which starts with 000008f82..., so the second character of the password is 8.\n",
    "- The third time a hash starts with five zeroes is for abc5278568, discovering the character f.\n",
    "In this example, after continuing this search a total of eight times, the password is 18f47a30.\n",
    "\n",
    "Given the actual Door ID, what is the password?\n",
    "\n",
    "Your puzzle input is `reyedfim`."
   ]
  },
  {
   "cell_type": "code",
   "execution_count": 2,
   "metadata": {
    "collapsed": true
   },
   "outputs": [],
   "source": [
    "from hashlib import md5"
   ]
  },
  {
   "cell_type": "code",
   "execution_count": 11,
   "metadata": {
    "collapsed": false
   },
   "outputs": [
    {
     "data": {
      "text/plain": [
       "'00000155f8105dff7f56ee10fa9b9abd'"
      ]
     },
     "execution_count": 11,
     "metadata": {},
     "output_type": "execute_result"
    }
   ],
   "source": [
    "# the example\n",
    "md5(b'abc3231929').hexdigest()"
   ]
  },
  {
   "cell_type": "code",
   "execution_count": 49,
   "metadata": {
    "collapsed": false
   },
   "outputs": [],
   "source": [
    "def concoct_password(name):\n",
    "    password = []\n",
    "    ind = 0\n",
    "    while len(password) < 8:\n",
    "        this_hash = md5(b\"%b%d\" % (bytearray(name, 'utf-8'), ind)).hexdigest()\n",
    "        if this_hash.startswith(\"00000\"):\n",
    "            print(\"Found good hash %s%d\" % (name, ind))\n",
    "            password.append(this_hash[5])\n",
    "        ind += 1\n",
    "    print(\"Password: %s\" % ''.join(password))"
   ]
  },
  {
   "cell_type": "code",
   "execution_count": 50,
   "metadata": {
    "collapsed": false
   },
   "outputs": [
    {
     "name": "stdout",
     "output_type": "stream",
     "text": [
      "Found good hash abc3231929\n",
      "Found good hash abc5017308\n",
      "Found good hash abc5278568\n",
      "Found good hash abc5357525\n",
      "Found good hash abc5708769\n",
      "Found good hash abc6082117\n",
      "Found good hash abc8036669\n",
      "Found good hash abc8605828\n",
      "Password: 18f47a30\n"
     ]
    }
   ],
   "source": [
    "concoct_password(\"abc\")"
   ]
  },
  {
   "cell_type": "code",
   "execution_count": 51,
   "metadata": {
    "collapsed": false
   },
   "outputs": [
    {
     "name": "stdout",
     "output_type": "stream",
     "text": [
      "Found good hash reyedfim797564\n",
      "Found good hash reyedfim938629\n",
      "Found good hash reyedfim1617991\n",
      "Found good hash reyedfim2104453\n",
      "Found good hash reyedfim2564359\n",
      "Found good hash reyedfim2834991\n",
      "Found good hash reyedfim3605750\n",
      "Found good hash reyedfim7183955\n",
      "Password: f97c354d\n"
     ]
    }
   ],
   "source": [
    "concoct_password(\"reyedfim\")"
   ]
  },
  {
   "cell_type": "markdown",
   "metadata": {},
   "source": [
    "## Part 2"
   ]
  },
  {
   "cell_type": "markdown",
   "metadata": {},
   "source": [
    "As the door slides open, you are presented with a second door that uses a slightly more inspired security mechanism. Clearly unimpressed by the last version (in what movie is the password decrypted in order?!), the Easter Bunny engineers have worked out a better solution.\n",
    "\n",
    "Instead of simply filling in the password from left to right, the hash now also indicates the position within the password to fill. You still look for hashes that begin with five zeroes; however, now, the sixth character represents the position (0-7), and the seventh character is the character to put in that position.\n",
    "\n",
    "A hash result of 000001f means that f is the second character in the password. Use only the first result for each position, and ignore invalid positions.\n",
    "\n",
    "For example, if the Door ID is abc:\n",
    "\n",
    "- The first interesting hash is from abc3231929, which produces 0000015...; so, 5 goes in position 1: `_5______`.\n",
    "- In the previous method, 5017308 produced an interesting hash; however, it is ignored, because it specifies an invalid position (8).\n",
    "- The second interesting hash is at index 5357525, which produces 000004e...; so, e goes in position 4: `_5__e___`.\n",
    "\n",
    "You almost choke on your popcorn as the final character falls into place, producing the password 05ace8e3.\n",
    "\n",
    "Given the actual Door ID and this new method, what is the password? Be extra proud of your solution if it uses a cinematic \"decrypting\" animation.\n",
    "\n",
    "Your puzzle input is still `reyedfim`."
   ]
  },
  {
   "cell_type": "code",
   "execution_count": 73,
   "metadata": {
    "collapsed": true
   },
   "outputs": [],
   "source": [
    "def concoct_ticky_password(name):\n",
    "    password = [None] * 8\n",
    "    ind = 0\n",
    "    positions = ['0', '1', '2', '3', '4', '5', '6', '7']\n",
    "    while not all(password):\n",
    "        this_hash = md5(b\"%b%d\" % (bytearray(name, 'utf-8'), ind)).hexdigest()\n",
    "        if this_hash.startswith(\"00000\"):\n",
    "            position = this_hash[5]\n",
    "            if position in positions:\n",
    "                positions.remove(position)\n",
    "                print(\"Found good hash %s%d\" % (name, ind))\n",
    "                password[int(position)] = this_hash[6]\n",
    "        ind += 1\n",
    "    print(\"Password: %s\" % ''.join(password))"
   ]
  },
  {
   "cell_type": "code",
   "execution_count": 74,
   "metadata": {
    "collapsed": false
   },
   "outputs": [
    {
     "name": "stdout",
     "output_type": "stream",
     "text": [
      "Found good hash abc3231929\n",
      "Found good hash abc5357525\n",
      "Found good hash abc5708769\n",
      "Found good hash abc8036669\n",
      "Found good hash abc8605828\n",
      "Found good hash abc8609554\n",
      "Found good hash abc13666005\n",
      "Found good hash abc13753421\n",
      "Password: 05ace8e3\n"
     ]
    }
   ],
   "source": [
    "concoct_ticky_password(\"abc\")"
   ]
  },
  {
   "cell_type": "code",
   "execution_count": 75,
   "metadata": {
    "collapsed": false
   },
   "outputs": [
    {
     "name": "stdout",
     "output_type": "stream",
     "text": [
      "Found good hash reyedfim1617991\n",
      "Found good hash reyedfim2564359\n",
      "Found good hash reyedfim2834991\n",
      "Found good hash reyedfim3605750\n",
      "Found good hash reyedfim12187005\n",
      "Found good hash reyedfim13432325\n",
      "Found good hash reyedfim21679503\n",
      "Found good hash reyedfim25067104\n",
      "Password: 863dde27\n"
     ]
    }
   ],
   "source": [
    "concoct_ticky_password(\"reyedfim\")"
   ]
  },
  {
   "cell_type": "code",
   "execution_count": null,
   "metadata": {
    "collapsed": true
   },
   "outputs": [],
   "source": []
  }
 ],
 "metadata": {
  "kernelspec": {
   "display_name": "Python 3",
   "language": "python",
   "name": "python3"
  },
  "language_info": {
   "codemirror_mode": {
    "name": "ipython",
    "version": 3
   },
   "file_extension": ".py",
   "mimetype": "text/x-python",
   "name": "python",
   "nbconvert_exporter": "python",
   "pygments_lexer": "ipython3",
   "version": "3.5.1"
  }
 },
 "nbformat": 4,
 "nbformat_minor": 2
}
